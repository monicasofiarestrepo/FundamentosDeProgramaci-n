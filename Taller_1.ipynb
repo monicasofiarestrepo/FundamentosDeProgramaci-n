{
  "cells": [
    {
      "cell_type": "markdown",
      "metadata": {
        "id": "view-in-github",
        "colab_type": "text"
      },
      "source": [
        "<a href=\"https://colab.research.google.com/github/monicasofiarestrepo/MiProgresoPy/blob/main/Taller_1.ipynb\" target=\"_parent\"><img src=\"https://colab.research.google.com/assets/colab-badge.svg\" alt=\"Open In Colab\"/></a>"
      ]
    },
    {
      "cell_type": "markdown",
      "metadata": {
        "id": "ZdYnQ1zb_ZUz"
      },
      "source": [
        "# EJERCICIO 1\n"
      ]
    },
    {
      "cell_type": "code",
      "execution_count": null,
      "metadata": {
        "id": "KvgC4TRZ_hSw",
        "colab": {
          "base_uri": "https://localhost:8080/"
        },
        "outputId": "07f3b3df-c358-44c8-e515-01f49728c6be"
      },
      "outputs": [
        {
          "output_type": "stream",
          "name": "stdout",
          "text": [
            "¡Bienvenidos al juego de las hadas de Tinker Bell! \n",
            "Escoge un hada y lucha hasta la muerte  \n",
            "Estas son las opciones que tienes para vencer a tu contrincante:\n",
            "\n",
            "1) Roseta le gana a Silvermist, TinkerBell y Fawn, pero pierde contra Vidia, Periwinkle e Iridesa\n",
            "2) Iridesa le gana a Fawn, Roseta y Silvermist, pero pierde contra TinkerBell, Periwinkle y Vidia\n",
            "3) Vidia le gana a Roseta, Iridesa y Silvermist, pero pierde contra TinkerBell, Fawn y Periwinlle\n",
            "4) Periwinkle le gana a Vidia, Iridesa y Roseta pero pierde contra Silvermist, TinkerBell y Fawn \n",
            "5) TinkerBell le gana a  Periwinkle, Iridesa y Vidia pero pierde contra Fawn, Silvermist y Roseta \n",
            "6) Fawn le gana a Vidia, Periwinkle y TinkerBell, pero pierde contra Silvermist, Iridesa y Roseta\n",
            "7) Silvermist le gana a TinkerBell, Periwinkle y Fawn, pero pierde contra Roseta, Iridesa y Vidia\n",
            "\n",
            "Nota: escribe el nombre de tu hada en minúsculas\n",
            "\n",
            "Jugador #1 \n",
            "Escoge un hada: vidia\n",
            "Jugador #2 \n",
            "Escoge un hada: tinkerbell\n",
            "\n",
            "El jugador 1 ha escogido vidia y el jugador 2 ha escogido tinkerbell\n",
            "tinkerbell le gana a vidia, FELICIDADES JUGADOR 2, TU HADA GUERRERA HA GANADO\n"
          ]
        }
      ],
      "source": [
        "#EJERCICIO 1\n",
        "print(\"¡Bienvenidos al juego de las hadas de Tinker Bell! \\nEscoge un hada y lucha hasta la muerte  \\nEstas son las opciones que tienes para vencer a tu contrincante:\") \n",
        "print(\"\"\"\n",
        "1) Roseta le gana a Silvermist, TinkerBell y Fawn, pero pierde contra Vidia, Periwinkle e Iridesa\n",
        "2) Iridesa le gana a Fawn, Roseta y Silvermist, pero pierde contra TinkerBell, Periwinkle y Vidia\n",
        "3) Vidia le gana a Roseta, Iridesa y Silvermist, pero pierde contra TinkerBell, Fawn y Periwinlle\n",
        "4) Periwinkle le gana a Vidia, Iridesa y Roseta pero pierde contra Silvermist, TinkerBell y Fawn \n",
        "5) TinkerBell le gana a  Periwinkle, Iridesa y Vidia pero pierde contra Fawn, Silvermist y Roseta \n",
        "6) Fawn le gana a Vidia, Periwinkle y TinkerBell, pero pierde contra Silvermist, Iridesa y Roseta\n",
        "7) Silvermist le gana a TinkerBell, Periwinkle y Fawn, pero pierde contra Roseta, Iridesa y Vidia\n",
        "\n",
        "Nota: escribe el nombre de tu hada en minúsculas\\n\"\"\")\n",
        "\n",
        "H1 = input(\"Jugador #1 \\nEscoge un hada: \")\n",
        "H2 = input(\"Jugador #2 \\nEscoge un hada: \")\n",
        "\n",
        "print(f\"\\nEl jugador 1 ha escogido {H1} y el jugador 2 ha escogido {H2}\")\n",
        "\n",
        "if H1==H2:\n",
        "  print(\"¡Rayos! Ambos jugadores han elegido la misma hada, tenemos un empate\")\n",
        " \n",
        "elif H1==\"roseta\":\n",
        "  if H2==\"silvermist\" or H2==\"tinkerbell\" or H2==\"fawn\" :\n",
        "    print(f\"{H1} le gana a {H2}, FELICIDADES JUGADOR 1, TU HADA GUERRERA HA GANADO\")\n",
        "  elif H2==\"vidia\" or H2==\"periwinkle\" or H2==\"iridesa\":\n",
        "    print(f\"{H2} le gana a {H1}, FELICIDADES JUGADOR 2, TU HADA GUERRERA HA GANADO\")\n",
        "  else:\n",
        "    print(\"Parece que alguno de los dos jugadores ha escrito un hada que no tenemos en combate, revisen sus personajes escogidos\")  \n",
        "\n",
        "elif H1==\"iridesa\":\n",
        "  if H2==\"silvermist\" or H2==\"roseta\" or H2==\"fawn\" :\n",
        "    print(f\"{H1} le gana a {H2}, FELICIDADES JUGADOR 1, TU HADA GUERRERA HA GANADO\")\n",
        "  elif H2==\"vidia\" or H2==\"periwinkle\" or H2==\"tinkerbell\":\n",
        "    print(f\"{H2} le gana a {H1}, FELICIDADES JUGADOR 2, TU HADA GUERRERA HA GANADO\")\n",
        "  else:\n",
        "    print(\"Parece que alguno de los dos jugadores ha escrito un hada que no tenemos en combate, revisen sus personajes escogidos\")\n",
        "\n",
        "elif H1==\"vidia\":\n",
        "  if H2==\"silvermist\" or H2==\"roseta\" or H2==\"iridesa\" :\n",
        "    print(f\"{H1} le gana a {H2}, FELICIDADES JUGADOR 1, TU HADA GUERRERA HA GANADO\")\n",
        "  elif H2==\"fawn\" or H2==\"periwinkle\" or H2==\"tinkerbell\":\n",
        "    print(f\"{H2} le gana a {H1}, FELICIDADES JUGADOR 2, TU HADA GUERRERA HA GANADO\")\n",
        "  else:\n",
        "    print(\"Parece que alguno de los dos jugadores ha escrito un hada que no tenemos en combate, revisen sus personajes escogidos\")  \n",
        "\n",
        "elif H1==\"periwinkle\":\n",
        "  if H2==\"vidia\" or H2==\"roseta\" or H2==\"iridesa\" :\n",
        "    print(f\"{H1} le gana a {H2}, FELICIDADES JUGADOR 1, TU HADA GUERRERA HA GANADO\")\n",
        "  elif H2==\"fawn\" or H2==\"silvermist\" or H2==\"tinkerbell\":\n",
        "    print(f\"{H2} le gana a {H1}, FELICIDADES JUGADOR 2, TU HADA GUERRERA HA GANADO\")\n",
        "  else:\n",
        "    print(\"Parece que alguno de los dos jugadores ha escrito un hada que no tenemos en combate, revisen sus personajes escogidos\")  \n",
        "\n",
        "elif H1==\"tinkerbell\":\n",
        "  if H2==\"vidia\" or H2==\"periwinkle\" or H2==\"iridesa\" :\n",
        "    print(f\"{H1} le gana a {H2}, FELICIDADES JUGADOR 1, TU HADA GUERRERA HA GANADO\")\n",
        "  elif H2==\"fawn\" or H2==\"silvermist\" or H2==\"roseta\":\n",
        "    print(f\"{H2} le gana a {H1}, FELICIDADES JUGADOR 2, TU HADA GUERRERA HA GANADO\")\n",
        "  else:\n",
        "    print(\"Parece que alguno de los dos jugadores ha escrito un hada que no tenemos en combate, revisen sus personajes escogidos\")  \n",
        "\n",
        "elif H1==\"fawn\":\n",
        "  if H2==\"vidia\" or H2==\"periwinkle\" or H2==\"tinkerbell\" :\n",
        "    print(f\"{H1} le gana a {H2}, FELICIDADES JUGADOR 1, TU HADA GUERRERA HA GANADO\")\n",
        "  elif H2==\"iridesa\" or H2==\"silvermist\" or H2==\"roseta\":\n",
        "    print(f\"{H2} le gana a {H1}, FELICIDADES JUGADOR 2, TU HADA GUERRERA HA GANADO\") \n",
        "  else:\n",
        "    print(\"Parece que alguno de los dos jugadores ha escrito un hada que no tenemos en combate, revisen sus personajes escogidos\")  \n",
        "      \n",
        "elif H1==\"silvermist\":\n",
        "  if H2==\"fawn\" or H2==\"periwinkle\" or H2==\"tinkerbell\" :\n",
        "    print(f\"{H1} le gana a {H2}, FELICIDADES JUGADOR 1, TU HADA GUERRERA HA GANADO\")\n",
        "  elif H2==\"iridesa\" or H2==\"vidia\" or H2==\"roseta\":\n",
        "    print(f\"{H2} le gana a {H1}, FELICIDADES JUGADOR 2, TU HADA GUERRERA HA GANADO\") \n",
        "  else:\n",
        "    print(\"Parece que alguno de los dos jugadores ha escrito un hada que no tenemos en combate, revisen sus personajes escogidos\")\n",
        "\n",
        "else:\n",
        "  print(\"Parece que alguno de los dos jugadores ha escrito un hada que no tenemos en combate, revisen sus personajes escogidos\")  \n"
      ]
    },
    {
      "cell_type": "markdown",
      "metadata": {
        "id": "VvV0CVX5_dow"
      },
      "source": [
        "# EJERCICIO 2"
      ]
    },
    {
      "cell_type": "code",
      "source": [
        "descuento = 0\n",
        "print(\"¡Bienvenido al parque de diversiones! \\nCalcularemos la tarifa dependiendo de tu edad y las atracciones a las que deseas ingresar\" )\n",
        "print(\"Los precios son los siguientes: \\nMontaña rusa: $10000 \\nCarrusel: $8000 \\nCarritos chocones: $6000\")\n",
        "print(\"Ten en cuenta: \\nSi compra tiquetes para todos los tipos de atracciones tiene un descuento del 20% \\nSi compra más de tres tiquetes para la misma atracción tiene 10% de descuento sobre los tickets de esa atracción. \\nSi es menor de 15 años tiene un descuento general del 30% \\nSi es menor de 8 años tiene acceso gratuito al carrusel pero tiene prohibido ingresar a los carritos chocones.\\nAl finalizar sobre el valor de la compra se le agrega un IVA del 10%.\")\n",
        "edad=(int(input(\"Ingresa tu edad: \")))\n",
        "\n",
        "\n",
        "if edad>=8:\n",
        "    montaña_rusa=int(input(\"¿Cuántas entradas quieres para la montaña rusa? \"))\n",
        "    carrusel=int(input(\"¿Cuántas entradas quieres para el carrusel? \"))\n",
        "    carritos=int(input(\"¿Cuántas entradas quieres para los carritos chocones? \"))\n",
        "    \n",
        "    precio_mr= int(10000*montaña_rusa)\n",
        "    precio_car=int(6000*carritos)\n",
        "    precio_sel=int(8000*carrusel)\n",
        "\n",
        "    if montaña_rusa>3:\n",
        "        precio_mr -=int(precio_mr*0.1)\n",
        "    if carritos>3:\n",
        "        precio_car -=int(precio_car*0.1)\n",
        "    if carrusel>3:\n",
        "        precio_sel -= int(precio_sel*0.1)\n",
        "\n",
        "    precio_total=precio_mr+precio_car+precio_sel\n",
        "\n",
        "    if(montaña_rusa>=1 and carritos>=1 and carrusel>=1):\n",
        "        descuento=precio_total*0.2\n",
        "    if 8<=edad<15:\n",
        "        descuento+=precio_total*0.3\n",
        "\n",
        "\n",
        "    iva= int((precio_total-descuento)*0.10)\n",
        "    precio_total = int(precio_total + iva - descuento)\n",
        "\n",
        "    print(\"\\n \\n ************************************************\\n*****Recibo parque de diversiones***** \")\n",
        "    if(montaña_rusa>=1 and carritos>=1 and carrusel>=1 or montaña_rusa>3 or carritos>3 or carrusel>3):\n",
        "      print(\"*Tienes descuentos extra por la cantidad de entradas compradas \\n*\")\n",
        "    if 8<=edad<15:\n",
        "      print(\"*Tienes descuentos extra por tu edad\")\n",
        "    print(f\"* Número de entradas por atracción:\\n*  Montaña Rusa: {montaña_rusa} \\n*  Carrusel: {carrusel} \\n*  Carritos chocones: {carritos}\\n*\")\n",
        "    print(f\"* Precio por atracción (con descuento individual aplicado):\\n*    Montaña Rusa: ${precio_mr}\\n*    Carrusel: ${precio_sel} \\n*    Carritos chocones: ${precio_car} \\n>\") \n",
        "\n",
        "if edad<8:\n",
        "    print(\"Como eres menor de 8 años, tienes acceso gratuito al carrusel, pero no puedes entrar a los carritos chocones\")\n",
        "    montaña_rusa=int(input(\"¿Cuántas entradas quieres para la montaña rusa? \"))\n",
        "    carrusel=int(input(\"¿Cuántas entradas quieres para el carrusel? \"))\n",
        "\n",
        "    precio_mr= int(10000*montaña_rusa)\n",
        "    precio_sel= int(0*carrusel) \n",
        "\n",
        "    if montaña_rusa>3:\n",
        "        precio_mr -=(precio_mr*0.1)\n",
        "    precio_total=precio_mr+precio_sel\n",
        "    descuento=precio_total*0.3\n",
        "    \n",
        "\n",
        "    iva= int((precio_total-descuento)*0.10)\n",
        "    precio_total = int(precio_total + iva - descuento)\n",
        "    print(\"\\n \\n ************************************************\\n*****Recibo parque de diversiones***** \") \n",
        "    if(montaña_rusa>3):\n",
        "      print(\"*Tienes descuentos extra por la cantidad de entradas compradas y por tu edad \\n*\")\n",
        "    elif(montaña_rusa<=3):\n",
        "      print(\"*Tienes descuentos extra por tu edad\")\n",
        "    print(f\"* Número de entradas por atracción:\\n*  Montaña Rusa: {montaña_rusa} \\n*  Carrusel: {carrusel} \\n*\")\n",
        "    print(f\"* Precio por atracción (con descuento individual aplicado):\\n*    Montaña Rusa: ${precio_mr}    \\n*    Carrusel: ${precio_sel} Con acceso gratuito \\n\") \n",
        "   \n",
        "\n",
        "print(f\"* Impuesto al Valor agregado (IVA): ${iva} \\n* Tu precio final es: ${(precio_total)} \")\n",
        "print (\"*****¡Disfruta el parque!*****\\n************************************************\")"
      ],
      "metadata": {
        "id": "TRu1IG5Dl-UQ",
        "colab": {
          "base_uri": "https://localhost:8080/"
        },
        "outputId": "272d2863-b139-46ba-9f24-60e4ab428089"
      },
      "execution_count": null,
      "outputs": [
        {
          "output_type": "stream",
          "name": "stdout",
          "text": [
            "¡Bienvenido al parque de diversiones! \n",
            "Calcularemos la tarifa dependiendo de tu edad y las atracciones a las que deseas ingresar\n",
            "Los precios son los siguientes: \n",
            "Montaña rusa: $10000 \n",
            "Carrusel: $8000 \n",
            "Carritos chocones: $6000\n",
            "Ten en cuenta: \n",
            "Si compra tiquetes para todos los tipos de atracciones tiene un descuento del 20% \n",
            "Si compra más de tres tiquetes para la misma atracción tiene 10% de descuento sobre los tickets de esa atracción. \n",
            "Si es menor de 15 años tiene un descuento general del 30% \n",
            "Si es menor de 8 años tiene acceso gratuito al carrusel pero tiene prohibido ingresar a los carritos chocones.\n",
            "Al finalizar sobre el valor de la compra se le agrega un IVA del 10%.\n",
            "Ingresa tu edad: 6\n",
            "Como eres menor de 8 años, tienes acceso gratuito al carrusel, pero no puedes entrar a los carritos chocones\n",
            "¿Cuántas entradas quieres para la montaña rusa? 4\n",
            "¿Cuántas entradas quieres para el carrusel? 5\n",
            "\n",
            " \n",
            " ************************************************\n",
            "*****Recibo parque de diversiones***** \n",
            "*Tienes descuentos extra por la cantidad de entradas compradas y por tu edad \n",
            "*\n",
            "* Número de entradas por atracción:\n",
            "*  Montaña Rusa: 4 \n",
            "*  Carrusel: 5 \n",
            "*\n",
            "* Precio por atracción (con descuento individual aplicado):\n",
            "*    Montaña Rusa: $36000.0    \n",
            "*    Carrusel: $0 Con acceso gratuito \n",
            "\n",
            "* Impuesto al Valor agregado (IVA): $2520 \n",
            "* Tu precio final es: $27720 \n",
            "*****¡Disfruta el parque!*****\n",
            "************************************************\n"
          ]
        }
      ]
    },
    {
      "cell_type": "code",
      "source": [],
      "metadata": {
        "id": "H1Dqhw9TMG02"
      },
      "execution_count": null,
      "outputs": []
    }
  ],
  "metadata": {
    "colab": {
      "collapsed_sections": [],
      "provenance": [],
      "include_colab_link": true
    },
    "kernelspec": {
      "display_name": "Python 3",
      "name": "python3"
    },
    "language_info": {
      "name": "python"
    }
  },
  "nbformat": 4,
  "nbformat_minor": 0
}