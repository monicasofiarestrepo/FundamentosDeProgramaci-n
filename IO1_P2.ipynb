{
  "nbformat": 4,
  "nbformat_minor": 0,
  "metadata": {
    "colab": {
      "provenance": [],
      "include_colab_link": true
    },
    "kernelspec": {
      "name": "python3",
      "display_name": "Python 3"
    },
    "language_info": {
      "name": "python"
    }
  },
  "cells": [
    {
      "cell_type": "markdown",
      "metadata": {
        "id": "view-in-github",
        "colab_type": "text"
      },
      "source": [
        "<a href=\"https://colab.research.google.com/github/monicasofiarestrepo/FundamentosDeProgramaci-n/blob/main/IO1_P2.ipynb\" target=\"_parent\"><img src=\"https://colab.research.google.com/assets/colab-badge.svg\" alt=\"Open In Colab\"/></a>"
      ]
    },
    {
      "cell_type": "markdown",
      "source": [
        "IO1 - PRACTICA 2: Soluciòn Gràfica"
      ],
      "metadata": {
        "id": "tJizvwX0ZGYq"
      }
    },
    {
      "cell_type": "code",
      "source": [
        "#@title Importar Librerias\n",
        "import numpy as np\n",
        "import random\n",
        "import matplotlib.pyplot as plt"
      ],
      "metadata": {
        "id": "rDjtCdOBZOKU"
      },
      "execution_count": 1,
      "outputs": []
    },
    {
      "cell_type": "code",
      "source": [
        "#@title Gràfica Restricciòn 1\n",
        "#Region Factible\n",
        "d=np.linspace(0,100,500)\n",
        "x,y=(np.meshgrid(d,d))\n",
        "sombra=((y>=70/2-1/2*x) & (y>=130/2-x) & (y>=150/2 - 2*x))\n",
        "plt.imshow(sombra,extent=(0,100,0,100),origin=\"lower\",cmap=\"Purples\",alpha=0.3)\n",
        "\n",
        "#extent es los limites de la gràfica,origin de donde viene la sombra, cmap en que gama de colores, alpha que tan translùcido de 0 a 1\n",
        "x=np.linspace(0,100,500)\n",
        "\n",
        "#Restricciòn 1\n",
        "y1=(70/2)-((1/2)*x)\n",
        "#Restricciòn 2\n",
        "y2=(130/2)-((2/2)*x)\n",
        "#Restricciòn 3\n",
        "y3=(150/2)-((4/2)*x)\n",
        "#Funcion Objetivo\n",
        "y4=21000/300 - 450/300*x\n",
        "\n",
        "#Graficar\n",
        "plt.plot(x,y1,\"purple\")\n",
        "plt.plot(x,y2,\"red\")\n",
        "plt.plot(x,y3,\"green\")\n",
        "plt.plot(x,y4,\"blue\",marker=\"\",linestyle=\"dashed\")\n",
        "\n",
        "#limites \n",
        "plt.xlim(0,100)\n",
        "plt.ylim(0,100)\n",
        "\n",
        "#Titulo\n",
        "plt.title(\"Gràfica de restricciones\")\n",
        "plt.xlabel(\"X1\")\n",
        "plt.ylabel(\"X2\")\n",
        "\n"
      ],
      "metadata": {
        "colab": {
          "base_uri": "https://localhost:8080/",
          "height": 312
        },
        "id": "GtsR7oNPZbpr",
        "outputId": "033e35d0-6007-4925-858a-a90bf5f5d3e3"
      },
      "execution_count": 11,
      "outputs": [
        {
          "output_type": "execute_result",
          "data": {
            "text/plain": [
              "Text(0, 0.5, 'X2')"
            ]
          },
          "metadata": {},
          "execution_count": 11
        },
        {
          "output_type": "display_data",
          "data": {
            "text/plain": [
              "<Figure size 432x288 with 1 Axes>"
            ],
            "image/png": "[encoded data removed]"
          },
          "metadata": {
            "needs_background": "light"
          }
        }
      ]
    },
    {
      "cell_type": "code",
      "source": [],
      "metadata": {
        "id": "sBwsneK-9ph7"
      },
      "execution_count": null,
      "outputs": []
    },
    {
      "cell_type": "code",
      "source": [
        "#@title SISTEMA DE ECUACIONES\n",
        "# 2*X1+2*X2=130\n",
        "# 4*X1+2*X2=150\n",
        "a=np.array([[2,2],[4,2]])\n",
        "b=np.array([130,150])\n",
        "interseccion=np.linalg.solve(a,b)\n",
        "print(\"x1\",interseccion[0])\n",
        "print(\"X2\",interseccion[1])"
      ],
      "metadata": {
        "colab": {
          "base_uri": "https://localhost:8080/"
        },
        "id": "81dLODAka2TD",
        "outputId": "523213c0-a74b-4442-b316-82ad76e73091"
      },
      "execution_count": null,
      "outputs": [
        {
          "output_type": "stream",
          "name": "stdout",
          "text": [
            "x1 10.0\n",
            "X2 55.0\n"
          ]
        }
      ]
    }
  ]
}