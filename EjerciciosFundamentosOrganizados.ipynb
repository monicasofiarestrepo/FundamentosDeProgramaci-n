{
  "nbformat": 4,
  "nbformat_minor": 0,
  "metadata": {
    "colab": {
      "provenance": [],
      "collapsed_sections": [
        "pbRsd1mEtUQ5",
        "LLRTy-aaMhli",
        "zQHJEoDmd7V8"
      ],
      "toc_visible": true,
      "authorship_tag": "ABX9TyOk85wnV4ThDehhAYmEmf4W",
      "include_colab_link": true
    },
    "kernelspec": {
      "name": "python3",
      "display_name": "Python 3"
    },
    "language_info": {
      "name": "python"
    }
  },
  "cells": [
    {
      "cell_type": "markdown",
      "metadata": {
        "id": "view-in-github",
        "colab_type": "text"
      },
      "source": [
        "<a href=\"https://colab.research.google.com/github/monicasofiarestrepo/MiProgresoPy/blob/main/EjerciciosFundamentosOrganizados.ipynb\" target=\"_parent\"><img src=\"https://colab.research.google.com/assets/colab-badge.svg\" alt=\"Open In Colab\"/></a>"
      ]
    },
    {
      "cell_type": "code",
      "execution_count": null,
      "metadata": {
        "id": "zes0PQ5dtNC2"
      },
      "outputs": [],
      "source": [
        "# Hola bebé"
      ]
    },
    {
      "cell_type": "markdown",
      "source": [
        "# Simulacro parcial 1\n"
      ],
      "metadata": {
        "id": "pbRsd1mEtUQ5"
      }
    },
    {
      "cell_type": "markdown",
      "source": [],
      "metadata": {
        "id": "pKManey1MwpZ"
      }
    },
    {
      "cell_type": "code",
      "source": [
        "from IPython.core.display import DisplayHandle\n",
        "#Cuanto falta pa la quincena\n",
        "\n",
        "Dia=int(input())\n",
        "mes=input()\n",
        "\n",
        "if (mes == \"enero\" or mes == \"marzo\" or mes== \"mayo\" or mes == \"julio\"or mes == \"agosto\"or mes == \"octubre\" or mes== \"diciembre\"):\n",
        "   Faltan = 31-Dia\n",
        "elif (mes == \"abril\" or mes == \"junio\" or mes == \"septiembre\" or mes == \"noviembre\"):\n",
        "  Faltan = 30-Dia\n",
        "elif (mes == \"febrero\"):\n",
        "  Faltan = 28-Dia\n",
        "\n",
        "print(f\"Faltan {Faltan} dias para pagarte\")"
      ],
      "metadata": {
        "id": "iUfYp2FItYpN"
      },
      "execution_count": null,
      "outputs": []
    },
    {
      "cell_type": "code",
      "source": [
        "Edad = int(input())\n",
        "\n",
        "if Edad <= 12:\n",
        "  Etapa = \"nino\"\n",
        "elif 13 <= Edad <= 17:\n",
        "  Etapa= \"adolescente\"\n",
        "elif 18 <= Edad <= 62:\n",
        "  Etapa = \"adulto\"\n",
        "elif Edad > 62:\n",
        "  Etapa = \"adulto mayor\"\n",
        "\n",
        "print(f\"Es un {Etapa}\")"
      ],
      "metadata": {
        "id": "vmLHfR-vwX9O"
      },
      "execution_count": null,
      "outputs": []
    },
    {
      "cell_type": "code",
      "source": [
        "#¿podemos tener mas gatos en la nacho? \n",
        "\n",
        "gatos = int(input())\n",
        "zari = int(input())\n",
        "reptiles = int(input())\n",
        "\n",
        "Total= gatos+zari+reptiles\n",
        "PorcentajeGatos = round(float(gatos*100)/(Total),1)\n",
        "PorcentajeZari = round(float(zari*100)/(Total),1)\n",
        "PorcentajeReptiles = round(float(reptiles*100)/(Total),1)\n",
        "print(f\"gatos {PorcentajeGatos}%\")\n",
        "print(f\"zariguellas {PorcentajeZari}%\")\n",
        "print(f\"reptiles {PorcentajeReptiles}%\")\n",
        "\n",
        "if PorcentajeGatos > 40:\n",
        "  print(\"Debemos dejar de alimentar los gatos\")\n",
        "\n",
        "else:\n",
        "  print(\"Todavia podemos tener mas gatos en la nacho\")\n"
      ],
      "metadata": {
        "id": "dfSuvqxnz0sQ"
      },
      "execution_count": null,
      "outputs": []
    },
    {
      "cell_type": "code",
      "source": [
        "x=54\n",
        "n=str(x)\n",
        "sum=0\n",
        "  \n",
        "for i in range(x):\n",
        "   if len(n)==3:\n",
        "    sum+=3\n",
        "   if len(n)==2:\n",
        "      sum+=2\n",
        "   if len(n)==1:\n",
        "      sum+=1\n",
        "\n",
        "print(sum)"
      ],
      "metadata": {
        "colab": {
          "base_uri": "https://localhost:8080/"
        },
        "id": "JG-grkB9L2C2",
        "outputId": "63bd93df-8d16-42b3-9d72-e60ba7eed5e0"
      },
      "execution_count": null,
      "outputs": [
        {
          "output_type": "stream",
          "name": "stdout",
          "text": [
            "108\n"
          ]
        }
      ]
    },
    {
      "cell_type": "code",
      "source": [
        "nombre=\"moni\"\n",
        "print(nombre,\", has ganado\")\n",
        "print(nombre, end=\", has ganado\")\n",
        "\n",
        "#print(nombre, \"has ganado\", sep=\"\")"
      ],
      "metadata": {
        "colab": {
          "base_uri": "https://localhost:8080/"
        },
        "id": "hLSg2NFpbcBu",
        "outputId": "8174a9c7-1a43-4ff0-b769-d81e938732f3"
      },
      "execution_count": null,
      "outputs": [
        {
          "output_type": "stream",
          "name": "stdout",
          "text": [
            "moni , has ganado\n",
            "moni, has ganado"
          ]
        }
      ]
    },
    {
      "cell_type": "markdown",
      "source": [
        "# Módulo 5: Ciclos\n"
      ],
      "metadata": {
        "id": "LLRTy-aaMhli"
      }
    },
    {
      "cell_type": "code",
      "source": [
        "#ej 5:tablas de multiplicar \n",
        "\n",
        "n=int(input())\n",
        "i=1\n",
        "for i in range(1,21,1):\n",
        "  r= n*i\n",
        "  print(f\"{n} x {i} = {r}\")\n",
        "  i+=1"
      ],
      "metadata": {
        "colab": {
          "base_uri": "https://localhost:8080/"
        },
        "id": "NT9zMAGMMrdv",
        "outputId": "c4e74081-8c74-41c6-f2d6-7d2acdd400d9"
      },
      "execution_count": null,
      "outputs": [
        {
          "output_type": "stream",
          "name": "stdout",
          "text": [
            "2\n",
            "2 x 1 = 2\n",
            "2 x 2 = 4\n",
            "2 x 3 = 6\n",
            "2 x 4 = 8\n",
            "2 x 5 = 10\n",
            "2 x 6 = 12\n",
            "2 x 7 = 14\n",
            "2 x 8 = 16\n",
            "2 x 9 = 18\n",
            "2 x 10 = 20\n",
            "2 x 11 = 22\n",
            "2 x 12 = 24\n",
            "2 x 13 = 26\n",
            "2 x 14 = 28\n",
            "2 x 15 = 30\n",
            "2 x 16 = 32\n",
            "2 x 17 = 34\n",
            "2 x 18 = 36\n",
            "2 x 19 = 38\n",
            "2 x 20 = 40\n"
          ]
        }
      ]
    },
    {
      "cell_type": "code",
      "source": [
        "#ej 6 división salomónica\n",
        "\n",
        "N=float(input())\n",
        "i=1\n",
        "DS= N/2\n",
        "while (DS>=10):\n",
        "  DS=DS/2\n",
        "  i +=1\n",
        "\n",
        "print(i)\n"
      ],
      "metadata": {
        "colab": {
          "base_uri": "https://localhost:8080/"
        },
        "id": "rMc5j28m0oON",
        "outputId": "c61c447f-8e3f-4334-c9eb-196da121f2e8"
      },
      "execution_count": null,
      "outputs": [
        {
          "output_type": "stream",
          "name": "stdout",
          "text": [
            "1048576.0 \n",
            "17\n"
          ]
        }
      ]
    },
    {
      "cell_type": "code",
      "source": [
        "#ej7 lotes\n",
        "\n",
        "Cantidad= int(input())\n",
        "Long= float(input())\n",
        "Step= float(input())\n",
        "i = 1\n",
        "AreaTotal= float(0)\n",
        "\n",
        "for i in range(Cantidad):\n",
        "  Cuadrado= Long**2\n",
        "  AreaTotal += Cuadrado\n",
        "  Long += Step\n",
        "\n",
        "print(f\"El area total es de {AreaTotal} metros cuadrados\")"
      ],
      "metadata": {
        "colab": {
          "base_uri": "https://localhost:8080/"
        },
        "id": "9BpF-25t6lLt",
        "outputId": "883ed99c-2d7e-4a44-8d8b-2179c0c5f207"
      },
      "execution_count": null,
      "outputs": [
        {
          "output_type": "stream",
          "name": "stdout",
          "text": [
            "3\n",
            "20.2\n",
            "5.4\n",
            "El area total es de 2024.4 metros cuadrados\n"
          ]
        }
      ]
    },
    {
      "cell_type": "code",
      "source": [
        "#ej8 un elkefante se balanceaba \n",
        "\n",
        "Max= float(input())\n",
        "N= int(input())\n",
        "i=0\n",
        "y=0\n",
        "Total=0\n",
        "\n",
        "while i < N:\n",
        "  Peso= float(input())\n",
        "  Total += Peso\n",
        "  i +=1\n",
        "  if(Total <= Max):\n",
        "    y +=1\n",
        "  elif(Total > Max):\n",
        "    y = y \n",
        "  #print(y)\n",
        "  #1print(Total)\n",
        "\n",
        "print (y)"
      ],
      "metadata": {
        "colab": {
          "base_uri": "https://localhost:8080/"
        },
        "id": "iftLOtVT-Gmt",
        "outputId": "cd66efcf-0ef0-4e3e-c0da-243a2fca2497"
      },
      "execution_count": null,
      "outputs": [
        {
          "output_type": "stream",
          "name": "stdout",
          "text": [
            "500\n",
            "3\n",
            "450\n",
            "350\n",
            "250\n",
            "1\n"
          ]
        }
      ]
    },
    {
      "cell_type": "code",
      "source": [
        "#ej 9, primer y ultimo digito\n",
        "\n",
        "n=int(input())\n",
        "\n",
        "ultimodigito=(n % 10)\n",
        "while n >= 10: \n",
        "   n = n // 10;\n",
        "   primerdigito=n\n",
        "      \n",
        "print(f\"{primerdigito}{ultimodigito}\")"
      ],
      "metadata": {
        "colab": {
          "base_uri": "https://localhost:8080/"
        },
        "id": "J2-vXB9sKFFc",
        "outputId": "8dc8c7aa-04dc-4aca-ec6b-4bcc81223b5c"
      },
      "execution_count": null,
      "outputs": [
        {
          "output_type": "stream",
          "name": "stdout",
          "text": [
            "987654321\n",
            "91\n"
          ]
        }
      ]
    },
    {
      "cell_type": "code",
      "source": [
        "#ej 10 el union jack banderita \n",
        "a = int(input())\n",
        "b = int(input())\n",
        "cero = '0'\n",
        "mas = '+'\n",
        "for i in range (0,b,1):\n",
        "    if i != b//2:\n",
        "        print ((a//2)*cero+'+'+(a//2)*cero)\n",
        "    else:\n",
        "        print (mas*a)"
      ],
      "metadata": {
        "id": "yLuHEpN1OLQS"
      },
      "execution_count": null,
      "outputs": []
    },
    {
      "cell_type": "code",
      "source": [
        "#ej 11 polifactores\n",
        "A=int(input())\n",
        "P=int(input())\n",
        "Q=int(input())\n",
        "N=A\n",
        "cont=0\n",
        "for i in range (P,Q+1):\n",
        "  if A/i != A//i:\n",
        "    break\n",
        "  A/=i  \n",
        "  cont+=(i)\n",
        "suma=0\n",
        "for j in range (P,Q+1):\n",
        "  suma+=j  \n",
        "if cont==suma:\n",
        "  print(N,\"es polifactor entre\",P,\"y\", Q)\n",
        "else:\n",
        "  print(N,\"no es polifactor entre\",P,\"y\", Q)"
      ],
      "metadata": {
        "id": "g9mNdF0TOOX5",
        "colab": {
          "base_uri": "https://localhost:8080/"
        },
        "outputId": "68d2d4e8-caee-4f74-ae05-a9e166d4a611"
      },
      "execution_count": null,
      "outputs": [
        {
          "output_type": "stream",
          "name": "stdout",
          "text": [
            "3628800\n",
            "1 \n",
            "10\n",
            "3628800 es polifactor entre 1 y 10\n"
          ]
        }
      ]
    },
    {
      "cell_type": "code",
      "source": [
        "#ej12 dane \n",
        "\n",
        "N=int(input())\n",
        "P1=0\n",
        "for i in range(1,N+1):\n",
        "  P=float(input())\n",
        "  P2=int(P*i-P1)\n",
        "  print(P2)\n",
        "  P1+=P2"
      ],
      "metadata": {
        "id": "mwpewktUZWuq"
      },
      "execution_count": null,
      "outputs": []
    },
    {
      "cell_type": "markdown",
      "source": [
        "# Modulo 6: Listas\n"
      ],
      "metadata": {
        "id": "zQHJEoDmd7V8"
      }
    },
    {
      "cell_type": "code",
      "source": [
        "#ejercicio 1, Aprendiendo los numeros\n",
        "\n",
        "numeros=[]\n",
        "n = int(input())  #numero de veces que se repite\n",
        "for i in range(n):\n",
        "  numero = int(input())\n",
        "  numeros.append(numero) \n",
        "\n",
        "unos = numeros.count(1)\n",
        "print(f\"1: {unos}\")\n",
        "doses = numeros.count(2)\n",
        "print(f\"2: {doses}\")\n",
        "treses = numeros.count(3)\n",
        "print(f\"3: {treses}\")\n",
        "cuatros = numeros.count(4)\n",
        "print(f\"4: {cuatros}\")\n",
        "cincos = numeros.count(5)\n",
        "print(f\"5: {cincos}\")  #se puede hacer en una sola sinea con \\n pero ya que "
      ],
      "metadata": {
        "colab": {
          "base_uri": "https://localhost:8080/"
        },
        "id": "z5snWnYNd--8",
        "outputId": "60981232-b625-4c20-cb94-46195bf98369"
      },
      "execution_count": null,
      "outputs": [
        {
          "output_type": "stream",
          "name": "stdout",
          "text": [
            "10\n",
            "3\n",
            "82\n",
            "3\n",
            "5\n",
            "17\n",
            "5\n",
            "39\n",
            "2\n",
            "5\n",
            "24\n",
            "1: 0\n",
            "2: 1\n",
            "3: 2\n",
            "4: 0\n",
            "5: 3\n"
          ]
        }
      ]
    },
    {
      "cell_type": "code",
      "source": [
        "#ejercicio 2, club mas ganador \n",
        "\n",
        "n= int(input())\n",
        "Ballenota= []\n",
        "Mandril=[]\n",
        "\n",
        "MarcadorBallenota= 0\n",
        "MarcadorMandril= 0 \n",
        "\n",
        "for i in range (n): \n",
        "  GolesBallenota = int(input())\n",
        "  Ballenota.append(GolesBallenota)\n",
        " # print(Ballenota)\n",
        "  \n",
        "for i in range (n):\n",
        "  GolesMandril= int(input())\n",
        "  Mandril.append(GolesMandril)\n",
        "  #print(Mandril)\n",
        "\n",
        "for i in range (n):\n",
        "  if  Ballenota[i] ==  Mandril[i]:\n",
        "    MarcadorBallenota += 1\n",
        "    MarcadorMandril += 1\n",
        "  elif Ballenota[i] > Mandril[i]:\n",
        "    MarcadorBallenota += 2 \n",
        "  elif Mandril[i] > Ballenota[i]:\n",
        "    MarcadorMandril +=2 \n",
        "  \n",
        "print(f\"Ballenota Futbol Club: {MarcadorBallenota}\")\n",
        "print(f\"Real Mandril: {MarcadorMandril}\")"
      ],
      "metadata": {
        "colab": {
          "base_uri": "https://localhost:8080/"
        },
        "id": "1fI2dAx8kWiv",
        "outputId": "d3a136ae-c8af-4198-928b-6fd9392adea1"
      },
      "execution_count": null,
      "outputs": [
        {
          "output_type": "stream",
          "name": "stdout",
          "text": [
            "5\n",
            "2\n",
            "[2]\n",
            "3\n",
            "[2, 3]\n",
            "0\n",
            "[2, 3, 0]\n",
            "1\n",
            "[2, 3, 0, 1]\n",
            "0\n",
            "[2, 3, 0, 1, 0]\n",
            "1\n",
            "[1]\n",
            "4\n",
            "[1, 4]\n",
            "0\n",
            "[1, 4, 0]\n",
            "0\n",
            "[1, 4, 0, 0]\n",
            "2\n",
            "[1, 4, 0, 0, 2]\n",
            "Ballenota Futbol Club : 5\n",
            "Real Mandril: 5\n"
          ]
        }
      ]
    },
    {
      "cell_type": "code",
      "source": [
        "#ej3, buscar elementos repetidos de una lista de laminitas\n",
        "\n",
        "Laminitas= []\n",
        "\n",
        "while True:\n",
        "    N=int(input())\n",
        "    if N!= 0:\n",
        "     Laminitas.append(N)\n",
        "    elif N == 0:\n",
        "      break\n",
        "Cuantas = {i:Laminitas.count(i) for i in Laminitas}   \n",
        "#resuelto por diccionario \n",
        "\n",
        "#print(Laminitas)\n",
        "print(len(Cuantas))"
      ],
      "metadata": {
        "id": "gC9AVOObm2SV",
        "colab": {
          "base_uri": "https://localhost:8080/"
        },
        "outputId": "597f0a0b-982c-4b2e-eb3a-2ddcadb69f18"
      },
      "execution_count": null,
      "outputs": [
        {
          "output_type": "stream",
          "name": "stdout",
          "text": [
            "21\n",
            "47\n",
            "35\n",
            "658\n",
            "47\n",
            "1\n",
            "100\n",
            "9\n",
            "35\n",
            "47\n",
            "0\n",
            "[21, 47, 35, 658, 47, 1, 100, 9, 35, 47]\n",
            "7\n"
          ]
        }
      ]
    },
    {
      "cell_type": "code",
      "source": [
        "#ej 4 indice de desigualdad\n",
        "\n",
        "Salarios=[]\n",
        "while True:\n",
        "    N=int(input())\n",
        "    if N!= 0:\n",
        "     Salarios.append(N)\n",
        "    elif N == 0:\n",
        "      break\n",
        "\n",
        "Salarios.sort(reverse=True)\n",
        "\n",
        "#print(Salarios[2], Salarios[-3],len(Salarios)), menos mal no hay que quitar los repetidos\n",
        "Indice= (Salarios[2]-Salarios[-3])/((len(Salarios))**2)\n",
        "Indice=round(Indice,2)\n",
        "print(Indice)"
      ],
      "metadata": {
        "id": "KhAlDbmGoYV1",
        "colab": {
          "base_uri": "https://localhost:8080/"
        },
        "outputId": "1edd72e4-5b29-44b3-8057-9ff03ff112e0"
      },
      "execution_count": null,
      "outputs": [
        {
          "output_type": "stream",
          "name": "stdout",
          "text": [
            "200000\n",
            "500000\n",
            "700000\n",
            "900000\n",
            "200000\n",
            "400000\n",
            "600000\n",
            "100000\n",
            "800000\n",
            "0\n",
            "6172.84\n"
          ]
        }
      ]
    },
    {
      "cell_type": "code",
      "source": [
        "#ej 5, leyes de probabilidad de un planeta extraño en guerras \n",
        "\n",
        "N= int(input())\n",
        "AlturasBando1=[]\n",
        "AlturasBando2=[]\n",
        "Sobrevivientes= 0\n",
        "\n",
        "for i in range(N):\n",
        "  Altura1=int(input())\n",
        "  AlturasBando1.append(Altura1)\n",
        "\n",
        "for i in range(N):\n",
        "  Altura2=int(input())\n",
        "  AlturasBando2.append(Altura2)\n",
        "\n",
        "AlturasBando1.sort()\n",
        "AlturasBando2.sort(reverse=True)\n",
        "\n",
        "#print(AlturasBando1, AlturasBando2)\n",
        "\n",
        "for i in range(N):\n",
        "  if((AlturasBando1[i]) %2 == 0 and (AlturasBando2[i]) %2 == 0):\n",
        "    Sobrevivientes -=0\n",
        "  elif( (AlturasBando1[i] %2 != 0) and (AlturasBando2[i] %2 != 0)):\n",
        "    Sobrevivientes -=0\n",
        "  elif(((AlturasBando1[i]) %2 == 0 and (AlturasBando2[i]) %2 != 0) or ((AlturasBando1[i]) %2 != 0 and (AlturasBando2[i]) %2 == 0)):\n",
        "    Sobrevivientes +=2\n",
        "\n",
        "print(f\"Sobreviven {Sobrevivientes} soldados\")\n",
        "\n",
        " #probelema con caso 1, 180, 179, dice que no sobreviven cuando deberíoa\n",
        " #problema para caso 2, 170, 175,180,165, preguntar el martes"
      ],
      "metadata": {
        "colab": {
          "base_uri": "https://localhost:8080/"
        },
        "id": "xFmP_H1BmozC",
        "outputId": "285795dc-73b0-4c26-c5ba-08f3892a8f24"
      },
      "execution_count": null,
      "outputs": [
        {
          "output_type": "stream",
          "name": "stdout",
          "text": [
            "4\n",
            "151\n",
            "154\n",
            "153\n",
            "152\n",
            "160\n",
            "150\n",
            "180\n",
            "170\n",
            "[151, 152, 153, 154] [180, 170, 160, 150]\n",
            "Sobreviven 4 soldados\n"
          ]
        }
      ]
    },
    {
      "cell_type": "code",
      "source": [
        "#ej7: Bingo wochenemde \n",
        "\n",
        "Spieleren=int(input())\n",
        "Spiele=int(input())\n",
        "Gewinner=[]\n",
        "players={}\n",
        "\n",
        "for i in range(Spiele):\n",
        "  Ganador=int(input())\n",
        "  Gewinner.append(Ganador)\n",
        " \n",
        "for i in range(Spieleren):\n",
        "  players[i+1] = Gewinner.count(i + 1)\n",
        "\n",
        "PlusGewinner= [key for key, value in players.items() if value == max(players.values())]\n",
        "\n",
        "for Gewinner in PlusGewinner:\n",
        "  print(Gewinner)"
      ],
      "metadata": {
        "id": "Q4ToDwW29Y0x",
        "colab": {
          "base_uri": "https://localhost:8080/"
        },
        "outputId": "e990ac62-dd51-41c2-cbb6-d04c27b02a00"
      },
      "execution_count": null,
      "outputs": [
        {
          "output_type": "stream",
          "name": "stdout",
          "text": [
            "6\n",
            "10\n",
            "3\n",
            "5\n",
            "2\n",
            "1\n",
            "4\n",
            "2\n",
            "2\n",
            "5\n",
            "1\n",
            "5\n",
            "2\n",
            "5\n"
          ]
        }
      ]
    },
    {
      "cell_type": "code",
      "source": [
        "#Biespiel 7 ein paar von perfeckt Trauben #kein wort fur racimos \n",
        "\n",
        "num=[]\n",
        "res=[]\n",
        "\n",
        "TraubenNummer= int(input())\n",
        "num.append(TraubenNummer)\n",
        "while TraubenNummer != 0:\n",
        "  TraubenNummer= int(input())\n",
        "  if TraubenNummer!= 0:\n",
        "    num.append(TraubenNummer)\n",
        "  else: \n",
        "    break\n",
        "\n",
        "for i in num:\n",
        "  sum=0\n",
        "  j=1\n",
        "  while sum < i and j > 0:\n",
        "    sum = j*(j+1)/2\n",
        "    j+=1 \n",
        "  if sum == i:\n",
        "    res.append(\"Puede ser un racimo ideal\")\n",
        "  else:\n",
        "    res.append(\"No puede ser un racimo ideal\")\n",
        "\n",
        "for k in res: \n",
        "  print(k)\n",
        "  "
      ],
      "metadata": {
        "id": "6Vct6Dp0UI7a",
        "colab": {
          "base_uri": "https://localhost:8080/"
        },
        "outputId": "d8090caa-acda-434c-87c1-25deb446a728"
      },
      "execution_count": null,
      "outputs": [
        {
          "output_type": "stream",
          "name": "stdout",
          "text": [
            "6\n",
            "16\n",
            "21\n",
            "1\n",
            "2\n",
            "0\n",
            "Puede ser un racimo ideal\n",
            "No puede ser un racimo ideal\n",
            "Puede ser un racimo ideal\n",
            "Puede ser un racimo ideal\n",
            "No puede ser un racimo ideal\n"
          ]
        }
      ]
    },
    {
      "cell_type": "code",
      "source": [
        "#Beispiel 8, Findt die fehler Nummer von eine bestellt ZahlenListe\n",
        "\n",
        "WieViele = int(input())\n",
        "Zahlen = list(range(1,WieViele+1))\n",
        "Gefunden= []\n",
        "\n",
        "print(Zahlen)\n",
        "\n",
        "fehlen = []  #missing\n",
        "for Element in range (Zahlen[0], Zahlen[-1]):\n",
        "    Element= int(input())\n",
        "    if Element not in Zahlen:\n",
        "      fehlen.append(Element)\n",
        "print(f\"La ficha faltante es la {fehlen}\")\n",
        "\n",
        "#no coge el numero que falta, es macht die ZahlenList gut, und es erhält das korrekt inputNummer\n",
        "#Hilfe:  https://djangocentral.com/find-missing-number-in-an-array-using-python/"
      ],
      "metadata": {
        "colab": {
          "base_uri": "https://localhost:8080/"
        },
        "id": "M7skz0lgWbmh",
        "outputId": "c6e21a70-6659-437c-faae-fd4700145076"
      },
      "execution_count": null,
      "outputs": [
        {
          "output_type": "stream",
          "name": "stdout",
          "text": [
            "10\n",
            "[1, 2, 3, 4, 5, 6, 7, 8, 9, 10]\n",
            "1\n",
            "2\n",
            "3\n",
            "4\n",
            "6\n",
            "7\n",
            "8\n",
            "9\n",
            "10\n",
            "La ficha faltante es la []\n"
          ]
        }
      ]
    },
    {
      "cell_type": "code",
      "source": [
        "fichas = []\n",
        "NumeroDeNumeros=int(input())\n",
        "\n",
        "for i in range(NumeroDeNumeros - 1):\n",
        "    ficha = int(input())\n",
        "    fichas.append(ficha)\n",
        "fichas.sort()\n",
        "\n",
        "for i in range(NumeroDeNumeros):\n",
        "  try:\n",
        "    if fichas[i] != i + 1:\n",
        "      print(f'La ficha faltante es la {i + 1}')\n",
        "      break\n",
        "     #no me daba, de internet 9\n",
        "  except:\n",
        "      print(f'La ficha faltante es la {i + 1}')\n",
        "      break"
      ],
      "metadata": {
        "colab": {
          "base_uri": "https://localhost:8080/"
        },
        "id": "h3DZiPPmPuFF",
        "outputId": "171baffd-03b7-4bc5-f19b-bf99402d390d"
      },
      "execution_count": null,
      "outputs": [
        {
          "output_type": "stream",
          "name": "stdout",
          "text": [
            "10\n",
            "1\n",
            "2\n",
            "3\n",
            "4\n",
            "6\n",
            "7\n",
            "8\n",
            "9\n",
            "10\n",
            "La ficha faltante es la 5\n"
          ]
        }
      ]
    },
    {
      "cell_type": "code",
      "source": [
        "#ej 9 gewinnende Paare\n",
        "IDNummer= []\n",
        "Addieren1995=0\n",
        "numerox= 1 \n",
        "\n",
        " \n",
        "while numerox != 0:\n",
        "    numerox = int(input())\n",
        "    IDNummer.append(numerox) #otra manera de tomar input hasta 0 \n",
        "\n",
        "IDNummer.pop()\n",
        "\n",
        "for i in IDNummer:\n",
        "    if 1995 - i in IDNummer:\n",
        "      Addieren1995 += 1\n",
        "\n",
        "print(int(Addieren1995 / 2))"
      ],
      "metadata": {
        "colab": {
          "base_uri": "https://localhost:8080/"
        },
        "id": "NJshB4-iQq8c",
        "outputId": "015faba8-04f8-42dc-b764-73df049a33ce"
      },
      "execution_count": null,
      "outputs": [
        {
          "output_type": "stream",
          "name": "stdout",
          "text": [
            "1000\n",
            "300\n",
            "84\n",
            "995\n",
            "750\n",
            "1911\n",
            "0\n",
            "2\n"
          ]
        }
      ]
    },
    {
      "cell_type": "markdown",
      "source": [
        "# Módulo 7: Funciones\n"
      ],
      "metadata": {
        "id": "QkPTF6GrvCHy"
      }
    },
    {
      "cell_type": "code",
      "source": [
        "#ej 4: relatividad especial einstein\n",
        "from math import sqrt\n",
        "def Lorentz(v):\n",
        "  c=299792458\n",
        "  L = 1/(1-((v**2)/(c**2))**(1/2))\n",
        "  return round(L, 15)\n",
        "\n",
        "N=int(input())\n",
        "ListaLorentz=[]\n",
        "\n",
        "for i in range(N):\n",
        "  v=float(input())\n",
        "  ListaLorentz.append(Lorentz(v))\n",
        "\n",
        "for i in range(N):\n",
        "  print(ListaLorentz[i])\n"
      ],
      "metadata": {
        "colab": {
          "base_uri": "https://localhost:8080/"
        },
        "id": "zpFj09CLvEI6",
        "outputId": "e42dbdf5-fd9c-4d60-fec1-0f6045aa350d"
      },
      "execution_count": null,
      "outputs": [
        {
          "output_type": "stream",
          "name": "stdout",
          "text": [
            "4\n",
            "12\n",
            "123\n",
            "1234\n",
            "12345\n",
            "1.000000040027693\n",
            "1.000000410284005\n",
            "1.000004116197878\n",
            "1.00004118018329\n"
          ]
        }
      ]
    },
    {
      "cell_type": "code",
      "source": [
        "#ej4 otra manera \n",
        "\n",
        "import math\n",
        "\n",
        "\n",
        "def lorentz(v):\n",
        "    c = 299792458  # c velocidad de la luz\n",
        "    v = v / 3.6  # km/h a m/s\n",
        "    Lorentz = (1\n",
        "              /\n",
        "              (math.sqrt (1 - ((v ** 2)/(c ** 2))))\n",
        "              )\n",
        "    return round(Lorentz, 15) \n",
        "\n",
        "\n",
        "def main():\n",
        "    N = int(input())\n",
        "\n",
        "    for i in range(N):\n",
        "        v_ = float(input())\n",
        "        print(lorentz(v_))\n",
        "\n",
        "if __name__ == '__main__':\n",
        "    main()"
      ],
      "metadata": {
        "colab": {
          "base_uri": "https://localhost:8080/"
        },
        "id": "FjzrZvLxNFzF",
        "outputId": "da9ec8bc-e2b2-498d-d4fa-2915f31d554b"
      },
      "execution_count": null,
      "outputs": [
        {
          "output_type": "stream",
          "name": "stdout",
          "text": [
            "4\n",
            "12\n",
            "1.0\n",
            "123\n",
            "1.000000000000007\n",
            "1234\n",
            "1.000000000000654\n",
            "12345\n",
            "1.000000000065419\n"
          ]
        }
      ]
    },
    {
      "cell_type": "code",
      "source": [
        "#ej 5: Pares y nones\n",
        "import math\n",
        "\n",
        "def f(x):\n",
        " return math.sqrt(2+5*x)\n",
        "def g(x):\n",
        " return (4+x)**3\n",
        "  \n",
        "def KronkMachtsEtwas():\n",
        "   while True:\n",
        "        N = float(input())\n",
        "        if N == 0:\n",
        "            break\n",
        "        elif N % 2 == 0:\n",
        "            print(f(g(N)))\n",
        "        elif N%2 != 0:\n",
        "            print(g(f(N)))\n",
        "KronkMachtsEtwas()"
      ],
      "metadata": {
        "colab": {
          "base_uri": "https://localhost:8080/"
        },
        "id": "46wRN7ECTHUt",
        "outputId": "84b5a8d5-4eba-4222-9325-d181a73ef68c"
      },
      "execution_count": null,
      "outputs": [
        {
          "name": "stdout",
          "output_type": "stream",
          "text": [
            "4\n",
            "50.61620293937506\n",
            "15\n",
            "2084.8705484240154\n",
            "382\n",
            "16957.661454339745\n",
            "0\n"
          ]
        }
      ]
    },
    {
      "cell_type": "code",
      "source": [
        "#ej6 hyperpares \n",
        "\n",
        "def Hyperpar(value):\n",
        "    Liste = trennen(value)\n",
        "    LösungenListe = []\n",
        "\n",
        "    for num in Liste:\n",
        "        if num % 2 == 0:\n",
        "            LösungenListe.append(True)\n",
        "    if len(LösungenListe) == len(Liste):\n",
        "        print('Hyperpar')\n",
        "    else:\n",
        "        print('No es hyperpar')\n",
        "\n",
        "def trennen(int_):\n",
        "    return [int(a) for a in str(int_)]\n",
        "\n",
        "\n",
        "def DataFragen():\n",
        "    while True:\n",
        "        value = input()\n",
        "        if value == '-1':\n",
        "            break\n",
        "        else:\n",
        "            Hyperpar(value)\n",
        "\n",
        "DataFragen()"
      ],
      "metadata": {
        "colab": {
          "base_uri": "https://localhost:8080/"
        },
        "id": "N3Fz0KzgW88D",
        "outputId": "a9a2e5b9-81a6-470b-baa1-c2ef6392c713"
      },
      "execution_count": null,
      "outputs": [
        {
          "name": "stdout",
          "output_type": "stream",
          "text": [
            "123\n",
            "No es hyperpar\n",
            "46\n",
            "Hyperpar\n",
            "89\n",
            "No es hyperpar\n",
            "90\n",
            "No es hyperpar\n",
            "-1\n"
          ]
        }
      ]
    },
    {
      "cell_type": "code",
      "source": [
        "#ej 7 Obsesion de familia\n",
        "\n",
        "def Funktion(X):\n",
        "  if X % 123 == 0:\n",
        "    return 0\n",
        "  else:\n",
        "    return 1 + Funktion(X+23) \n",
        "\n",
        "def Zeigen():\n",
        "  N= int(input())\n",
        "  for i in range(N):\n",
        "    X= int(input())\n",
        "    Funktion(X)\n",
        "    print(Funktion(X))\n",
        "\n",
        "Zeigen()\n"
      ],
      "metadata": {
        "colab": {
          "base_uri": "https://localhost:8080/"
        },
        "id": "LuwspIJUZHJL",
        "outputId": "f6738636-99ba-42b8-bd28-365e80bc0fc1"
      },
      "execution_count": null,
      "outputs": [
        {
          "output_type": "stream",
          "name": "stdout",
          "text": [
            "4\n",
            "123\n",
            "0\n",
            "100\n",
            "1\n",
            "246\n",
            "0\n",
            "999\n",
            "117\n"
          ]
        }
      ]
    },
    {
      "cell_type": "code",
      "source": [
        "#ej8:PAN/ Brot\n",
        "import math\n",
        "\n",
        "def P(x):\n",
        "  return 2*x+1\n",
        "def A(x):\n",
        "  return 3**x\n",
        "def N(x):\n",
        "  return math.sqrt(5*x)+4\n",
        "\n",
        "def Zeigen():\n",
        "  N= int(input())\n",
        "\n",
        "  for i in range(N):\n",
        "    Nummer = float(input())\n",
        "    print(P(A(N(Nummer))))\n",
        "    \n",
        "Zeigen()\n"
      ],
      "metadata": {
        "colab": {
          "base_uri": "https://localhost:8080/",
          "height": 356
        },
        "id": "pVQlD5I3cpW6",
        "outputId": "c1bfefa3-34f2-4cde-be23-3c7091e760b3"
      },
      "execution_count": null,
      "outputs": [
        {
          "name": "stdout",
          "output_type": "stream",
          "text": [
            "3\n",
            "2\n"
          ]
        },
        {
          "output_type": "error",
          "ename": "TypeError",
          "evalue": "ignored",
          "traceback": [
            "\u001b[0;31m---------------------------------------------------------------------------\u001b[0m",
            "\u001b[0;31mTypeError\u001b[0m                                 Traceback (most recent call last)",
            "\u001b[0;32m<ipython-input-3-42d9c497d108>\u001b[0m in \u001b[0;36m<module>\u001b[0;34m\u001b[0m\n\u001b[1;32m     16\u001b[0m     \u001b[0mprint\u001b[0m\u001b[0;34m(\u001b[0m\u001b[0mP\u001b[0m\u001b[0;34m(\u001b[0m\u001b[0mA\u001b[0m\u001b[0;34m(\u001b[0m\u001b[0mN\u001b[0m\u001b[0;34m(\u001b[0m\u001b[0mNummer\u001b[0m\u001b[0;34m)\u001b[0m\u001b[0;34m)\u001b[0m\u001b[0;34m)\u001b[0m\u001b[0;34m)\u001b[0m\u001b[0;34m\u001b[0m\u001b[0;34m\u001b[0m\u001b[0m\n\u001b[1;32m     17\u001b[0m \u001b[0;34m\u001b[0m\u001b[0m\n\u001b[0;32m---> 18\u001b[0;31m \u001b[0mZeigen\u001b[0m\u001b[0;34m(\u001b[0m\u001b[0;34m)\u001b[0m\u001b[0;34m\u001b[0m\u001b[0;34m\u001b[0m\u001b[0m\n\u001b[0m",
            "\u001b[0;32m<ipython-input-3-42d9c497d108>\u001b[0m in \u001b[0;36mZeigen\u001b[0;34m()\u001b[0m\n\u001b[1;32m     14\u001b[0m   \u001b[0;32mfor\u001b[0m \u001b[0mi\u001b[0m \u001b[0;32min\u001b[0m \u001b[0mrange\u001b[0m\u001b[0;34m(\u001b[0m\u001b[0mN\u001b[0m\u001b[0;34m)\u001b[0m\u001b[0;34m:\u001b[0m\u001b[0;34m\u001b[0m\u001b[0;34m\u001b[0m\u001b[0m\n\u001b[1;32m     15\u001b[0m     \u001b[0mNummer\u001b[0m \u001b[0;34m=\u001b[0m \u001b[0mfloat\u001b[0m\u001b[0;34m(\u001b[0m\u001b[0minput\u001b[0m\u001b[0;34m(\u001b[0m\u001b[0;34m)\u001b[0m\u001b[0;34m)\u001b[0m\u001b[0;34m\u001b[0m\u001b[0;34m\u001b[0m\u001b[0m\n\u001b[0;32m---> 16\u001b[0;31m     \u001b[0mprint\u001b[0m\u001b[0;34m(\u001b[0m\u001b[0mP\u001b[0m\u001b[0;34m(\u001b[0m\u001b[0mA\u001b[0m\u001b[0;34m(\u001b[0m\u001b[0mN\u001b[0m\u001b[0;34m(\u001b[0m\u001b[0mNummer\u001b[0m\u001b[0;34m)\u001b[0m\u001b[0;34m)\u001b[0m\u001b[0;34m)\u001b[0m\u001b[0;34m)\u001b[0m\u001b[0;34m\u001b[0m\u001b[0;34m\u001b[0m\u001b[0m\n\u001b[0m\u001b[1;32m     17\u001b[0m \u001b[0;34m\u001b[0m\u001b[0m\n\u001b[1;32m     18\u001b[0m \u001b[0mZeigen\u001b[0m\u001b[0;34m(\u001b[0m\u001b[0;34m)\u001b[0m\u001b[0;34m\u001b[0m\u001b[0;34m\u001b[0m\u001b[0m\n",
            "\u001b[0;31mTypeError\u001b[0m: 'int' object is not callable"
          ]
        }
      ]
    },
    {
      "cell_type": "code",
      "source": [
        "#ej 9, Función de ackerman\n",
        "\n",
        "def Ackerman(m, n):\n",
        "    if m == 0:\n",
        "        return n + 1\n",
        "    elif m > 0 and n == 0:\n",
        "        return A(m - 1, 1)\n",
        "    elif m > 0 and n > 0:\n",
        "        return A(m - 1, A(m, n - 1))\n",
        "\n",
        "def Cosa():\n",
        "  Zahlen= int(input())\n",
        "  for i in range(Zahlen):\n",
        "        m = int(input())\n",
        "        n = int(input())\n",
        "        print(Ackerman(m, n))\n",
        "\n",
        "Cosa()"
      ],
      "metadata": {
        "id": "QfNdAidncvCl"
      },
      "execution_count": null,
      "outputs": []
    },
    {
      "cell_type": "code",
      "source": [
        "#ej 10 Perfekte Zahlen\n",
        "\n",
        "def IstEsPerfekt(n):\n",
        "  Summe=0\n",
        "  divisores=[]\n",
        "  for i in range (1, n):\n",
        "    if n % i == 0:\n",
        "      divisores.append(i)\n",
        "  Gesamt= sum(divisores)\n",
        "  if Gesamt == n:\n",
        "      print(f\"{n} es perfecto\")\n",
        "  else:\n",
        "      print(f\"{n} no es perfecto\")\n",
        "\n",
        "\n",
        "def ZahlenErhalten():\n",
        "  Summe=0\n",
        "  Zahlen= int(input())\n",
        "\n",
        "  for i in range(Zahlen):\n",
        "    n = int(input())\n",
        "    IstEsPerfekt(n)\n",
        "        \n",
        "   \n",
        "\n",
        "ZahlenErhalten()\n",
        "\n",
        "    "
      ],
      "metadata": {
        "colab": {
          "base_uri": "https://localhost:8080/"
        },
        "id": "qcSzWeKPhxw8",
        "outputId": "f2b9dda9-3189-4c48-f6d2-0cccfd59025a"
      },
      "execution_count": null,
      "outputs": [
        {
          "output_type": "stream",
          "name": "stdout",
          "text": [
            "3\n",
            "15\n",
            "15 no es perfecto\n",
            "240\n",
            "240 no es perfecto\n",
            "28\n",
            "28 es perfecto\n"
          ]
        }
      ]
    },
    {
      "cell_type": "code",
      "source": [
        "#ej 10: starken nummer\n",
        "\n",
        "import math\n",
        "\n",
        "def IstEsStark(n):\n",
        "  Summe=0\n",
        "  intn= str(n)\n",
        "  Liste = [int(x) for x in str(intn)]\n",
        "  #print(Liste)\n",
        "  for i in range(len(Liste)):\n",
        "    char = Liste[i]\n",
        "    factorial = math.factorial(char)\n",
        "    Summe += factorial\n",
        "  \n",
        "  if Summe == n:\n",
        "    print(f\"{n} es fuerte\")\n",
        "  else:\n",
        "    print(f\"{n} no es fuerte\")\n",
        "\n",
        "\n",
        "def ZahlenErhalten():\n",
        "  Summe=0\n",
        "  Zahlen= int(input())\n",
        "\n",
        "  for i in range(Zahlen):\n",
        "    n = int(input())\n",
        "    IstEsStark(n)\n",
        "\n",
        "ZahlenErhalten()"
      ],
      "metadata": {
        "colab": {
          "base_uri": "https://localhost:8080/"
        },
        "id": "jlVCLzcAyg05",
        "outputId": "67201fa2-b227-4927-9581-7a5f4c04c523"
      },
      "execution_count": null,
      "outputs": [
        {
          "output_type": "stream",
          "name": "stdout",
          "text": [
            "2\n",
            "1\n",
            "1 es fuerte\n",
            "145\n",
            "145 es fuerte\n"
          ]
        }
      ]
    },
    {
      "cell_type": "markdown",
      "source": [
        "# MODULO 8: Aplicaciones\n"
      ],
      "metadata": {
        "id": "_lqWbYHF-FQg"
      }
    },
    {
      "cell_type": "code",
      "source": [
        "#Bandera escocesa\n",
        "\n",
        "def BanderaEscocesa(n):\n",
        "    bandera = ''\n",
        "\n",
        "    for k in range(n):\n",
        "        for i in range(n):\n",
        "            if k == i or i + k == n - 1:\n",
        "                bandera += '#'\n",
        "            else:\n",
        "                bandera += '0'\n",
        "\n",
        "        bandera += '\\n'\n",
        "\n",
        "    print(bandera)\n",
        "\n",
        "while True:\n",
        "    N=int(input())\n",
        "    if N!= 0:\n",
        "      BanderaEscocesa(N) \n",
        "    elif N == 0:\n",
        "      break\n"
      ],
      "metadata": {
        "id": "Hja31B1N-JPH",
        "colab": {
          "base_uri": "https://localhost:8080/"
        },
        "outputId": "76e4cd9f-de6b-4ca7-c41f-01420a499428"
      },
      "execution_count": 5,
      "outputs": [
        {
          "name": "stdout",
          "output_type": "stream",
          "text": [
            "3\n",
            "#0#\n",
            "0#0\n",
            "#0#\n",
            "\n",
            "4\n",
            "#00#\n",
            "0##0\n",
            "0##0\n",
            "#00#\n",
            "\n",
            "5\n",
            "#000#\n",
            "0#0#0\n",
            "00#00\n",
            "0#0#0\n",
            "#000#\n",
            "\n",
            "0\n"
          ]
        }
      ]
    },
    {
      "cell_type": "code",
      "source": [
        "#Serie de Lucas\n",
        "\n",
        "def SerieDeLucas(Anfang, Finale):\n",
        "  counter=0\n",
        "  a = 2  \n",
        "  b = 1 \n",
        "  c= b + a\n",
        "  while c <= Finale:\n",
        "    c = b+a\n",
        "    #print(f\"c es {c}\")\n",
        "    a = b\n",
        "    b = c\n",
        "    if (c >= Anfang and c <= Finale):\n",
        "      counter += 1\n",
        "      #7print(counter)\n",
        "    elif c > Finale: \n",
        "      break\n",
        "  print(counter)\n",
        "      \n",
        "\n",
        "def main():\n",
        "  Anfang= int(input())\n",
        "  Finale= int(input())\n",
        "  SerieDeLucas(Anfang, Finale)\n",
        "\n",
        "main()\n"
      ],
      "metadata": {
        "colab": {
          "base_uri": "https://localhost:8080/"
        },
        "id": "nroEyb3ansHZ",
        "outputId": "2c20d4e3-de0c-4e8e-e095-655c70eb3a83"
      },
      "execution_count": 47,
      "outputs": [
        {
          "output_type": "stream",
          "name": "stdout",
          "text": [
            "3\n",
            "76\n",
            "8\n"
          ]
        }
      ]
    },
    {
      "cell_type": "code",
      "source": [
        "def lucas_serie(max):\n",
        "    lucas_list = [2, 1]\n",
        "    while lucas_list[-1] <= max:\n",
        "        lucas_list.append(lucas_list[-1] + lucas_list[-2])\n",
        "    print(lucas_list)\n"
      ],
      "metadata": {
        "id": "6w6vZ6NvwaJx"
      },
      "execution_count": 21,
      "outputs": []
    }
  ]
}