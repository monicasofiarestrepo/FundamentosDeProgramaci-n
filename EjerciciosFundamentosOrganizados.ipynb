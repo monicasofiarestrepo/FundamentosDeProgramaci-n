{
  "nbformat": 4,
  "nbformat_minor": 0,
  "metadata": {
    "colab": {
      "provenance": [],
      "collapsed_sections": [
        "pbRsd1mEtUQ5",
        "LLRTy-aaMhli",
        "zQHJEoDmd7V8",
        "QkPTF6GrvCHy",
        "_lqWbYHF-FQg"
      ],
      "toc_visible": true,
      "authorship_tag": "ABX9TyMy9KS4XIpeZys6MCgYPG0b",
      "include_colab_link": true
    },
    "kernelspec": {
      "name": "python3",
      "display_name": "Python 3"
    },
    "language_info": {
      "name": "python"
    }
  },
  "cells": [
    {
      "cell_type": "markdown",
      "metadata": {
        "id": "view-in-github",
        "colab_type": "text"
      },
      "source": [
        "<a href=\"https://colab.research.google.com/github/monicasofiarestrepo/MiProgresoPy/blob/main/EjerciciosFundamentosOrganizados.ipynb\" target=\"_parent\"><img src=\"https://colab.research.google.com/assets/colab-badge.svg\" alt=\"Open In Colab\"/></a>"
      ]
    },
    {
      "cell_type": "code",
      "execution_count": null,
      "metadata": {
        "id": "zes0PQ5dtNC2"
      },
      "outputs": [],
      "source": [
        "# Hola bebé"
      ]
    },
    {
      "cell_type": "markdown",
      "source": [
        "# Simulacro parcial 1\n"
      ],
      "metadata": {
        "id": "pbRsd1mEtUQ5"
      }
    },
    {
      "cell_type": "markdown",
      "source": [],
      "metadata": {
        "id": "pKManey1MwpZ"
      }
    },
    {
      "cell_type": "code",
      "source": [
        "from IPython.core.display import DisplayHandle\n",
        "#Cuanto falta pa la quincena\n",
        "\n",
        "Dia=int(input())\n",
        "mes=input()\n",
        "\n",
        "if (mes == \"enero\" or mes == \"marzo\" or mes== \"mayo\" or mes == \"julio\"or mes == \"agosto\"or mes == \"octubre\" or mes== \"diciembre\"):\n",
        "   Faltan = 31-Dia\n",
        "elif (mes == \"abril\" or mes == \"junio\" or mes == \"septiembre\" or mes == \"noviembre\"):\n",
        "  Faltan = 30-Dia\n",
        "elif (mes == \"febrero\"):\n",
        "  Faltan = 28-Dia\n",
        "\n",
        "print(f\"Faltan {Faltan} dias para pagarte\")"
      ],
      "metadata": {
        "id": "iUfYp2FItYpN"
      },
      "execution_count": null,
      "outputs": []
    },
    {
      "cell_type": "code",
      "source": [
        "Edad = int(input())\n",
        "\n",
        "if Edad <= 12:\n",
        "  Etapa = \"nino\"\n",
        "elif 13 <= Edad <= 17:\n",
        "  Etapa= \"adolescente\"\n",
        "elif 18 <= Edad <= 62:\n",
        "  Etapa = \"adulto\"\n",
        "elif Edad > 62:\n",
        "  Etapa = \"adulto mayor\"\n",
        "\n",
        "print(f\"Es un {Etapa}\")"
      ],
      "metadata": {
        "id": "vmLHfR-vwX9O"
      },
      "execution_count": null,
      "outputs": []
    },
    {
      "cell_type": "code",
      "source": [
        "#¿podemos tener mas gatos en la nacho? \n",
        "\n",
        "gatos = int(input())\n",
        "zari = int(input())\n",
        "reptiles = int(input())\n",
        "\n",
        "Total= gatos+zari+reptiles\n",
        "PorcentajeGatos = round(float(gatos*100)/(Total),1)\n",
        "PorcentajeZari = round(float(zari*100)/(Total),1)\n",
        "PorcentajeReptiles = round(float(reptiles*100)/(Total),1)\n",
        "print(f\"gatos {PorcentajeGatos}%\")\n",
        "print(f\"zariguellas {PorcentajeZari}%\")\n",
        "print(f\"reptiles {PorcentajeReptiles}%\")\n",
        "\n",
        "if PorcentajeGatos > 40:\n",
        "  print(\"Debemos dejar de alimentar los gatos\")\n",
        "\n",
        "else:\n",
        "  print(\"Todavia podemos tener mas gatos en la nacho\")\n"
      ],
      "metadata": {
        "id": "dfSuvqxnz0sQ"
      },
      "execution_count": null,
      "outputs": []
    },
    {
      "cell_type": "code",
      "source": [
        "x=54\n",
        "n=str(x)\n",
        "sum=0\n",
        "  \n",
        "for i in range(x):\n",
        "   if len(n)==3:\n",
        "    sum+=3\n",
        "   if len(n)==2:\n",
        "      sum+=2\n",
        "   if len(n)==1:\n",
        "      sum+=1\n",
        "\n",
        "print(sum)"
      ],
      "metadata": {
        "colab": {
          "base_uri": "https://localhost:8080/"
        },
        "id": "JG-grkB9L2C2",
        "outputId": "63bd93df-8d16-42b3-9d72-e60ba7eed5e0"
      },
      "execution_count": null,
      "outputs": [
        {
          "output_type": "stream",
          "name": "stdout",
          "text": [
            "108\n"
          ]
        }
      ]
    },
    {
      "cell_type": "code",
      "source": [
        "nombre=\"moni\"\n",
        "print(nombre,\", has ganado\")\n",
        "print(nombre, end=\", has ganado\")\n",
        "\n",
        "#print(nombre, \"has ganado\", sep=\"\")"
      ],
      "metadata": {
        "colab": {
          "base_uri": "https://localhost:8080/"
        },
        "id": "hLSg2NFpbcBu",
        "outputId": "8174a9c7-1a43-4ff0-b769-d81e938732f3"
      },
      "execution_count": null,
      "outputs": [
        {
          "output_type": "stream",
          "name": "stdout",
          "text": [
            "moni , has ganado\n",
            "moni, has ganado"
          ]
        }
      ]
    },
    {
      "cell_type": "markdown",
      "source": [
        "# Módulo 5: Ciclos\n"
      ],
      "metadata": {
        "id": "LLRTy-aaMhli"
      }
    },
    {
      "cell_type": "code",
      "source": [
        "#ej 5:tablas de multiplicar \n",
        "\n",
        "n=int(input())\n",
        "i=1\n",
        "for i in range(1,21,1):\n",
        "  r= n*i\n",
        "  print(f\"{n} x {i} = {r}\")\n",
        "  i+=1"
      ],
      "metadata": {
        "colab": {
          "base_uri": "https://localhost:8080/"
        },
        "id": "NT9zMAGMMrdv",
        "outputId": "c4e74081-8c74-41c6-f2d6-7d2acdd400d9"
      },
      "execution_count": null,
      "outputs": [
        {
          "output_type": "stream",
          "name": "stdout",
          "text": [
            "2\n",
            "2 x 1 = 2\n",
            "2 x 2 = 4\n",
            "2 x 3 = 6\n",
            "2 x 4 = 8\n",
            "2 x 5 = 10\n",
            "2 x 6 = 12\n",
            "2 x 7 = 14\n",
            "2 x 8 = 16\n",
            "2 x 9 = 18\n",
            "2 x 10 = 20\n",
            "2 x 11 = 22\n",
            "2 x 12 = 24\n",
            "2 x 13 = 26\n",
            "2 x 14 = 28\n",
            "2 x 15 = 30\n",
            "2 x 16 = 32\n",
            "2 x 17 = 34\n",
            "2 x 18 = 36\n",
            "2 x 19 = 38\n",
            "2 x 20 = 40\n"
          ]
        }
      ]
    },
    {
      "cell_type": "code",
      "source": [
        "#ej 6 división salomónica\n",
        "\n",
        "N=float(input())\n",
        "i=1\n",
        "DS= N/2\n",
        "while (DS>=10):\n",
        "  DS=DS/2\n",
        "  i +=1\n",
        "\n",
        "print(i)\n"
      ],
      "metadata": {
        "colab": {
          "base_uri": "https://localhost:8080/"
        },
        "id": "rMc5j28m0oON",
        "outputId": "c61c447f-8e3f-4334-c9eb-196da121f2e8"
      },
      "execution_count": null,
      "outputs": [
        {
          "output_type": "stream",
          "name": "stdout",
          "text": [
            "1048576.0 \n",
            "17\n"
          ]
        }
      ]
    },
    {
      "cell_type": "code",
      "source": [
        "#ej7 lotes\n",
        "\n",
        "Cantidad= int(input())\n",
        "Long= float(input())\n",
        "Step= float(input())\n",
        "i = 1\n",
        "AreaTotal= float(0)\n",
        "\n",
        "for i in range(Cantidad):\n",
        "  Cuadrado= Long**2\n",
        "  AreaTotal += Cuadrado\n",
        "  Long += Step\n",
        "\n",
        "print(f\"El area total es de {AreaTotal} metros cuadrados\")"
      ],
      "metadata": {
        "colab": {
          "base_uri": "https://localhost:8080/"
        },
        "id": "9BpF-25t6lLt",
        "outputId": "883ed99c-2d7e-4a44-8d8b-2179c0c5f207"
      },
      "execution_count": null,
      "outputs": [
        {
          "output_type": "stream",
          "name": "stdout",
          "text": [
            "3\n",
            "20.2\n",
            "5.4\n",
            "El area total es de 2024.4 metros cuadrados\n"
          ]
        }
      ]
    },
    {
      "cell_type": "code",
      "source": [
        "#ej8 un elkefante se balanceaba \n",
        "\n",
        "Max= float(input())\n",
        "N= int(input())\n",
        "i=0\n",
        "y=0\n",
        "Total=0\n",
        "\n",
        "while i < N:\n",
        "  Peso= float(input())\n",
        "  Total += Peso\n",
        "  i +=1\n",
        "  if(Total <= Max):\n",
        "    y +=1\n",
        "  elif(Total > Max):\n",
        "    y = y \n",
        "  #print(y)\n",
        "  #1print(Total)\n",
        "\n",
        "print (y)"
      ],
      "metadata": {
        "colab": {
          "base_uri": "https://localhost:8080/"
        },
        "id": "iftLOtVT-Gmt",
        "outputId": "cd66efcf-0ef0-4e3e-c0da-243a2fca2497"
      },
      "execution_count": null,
      "outputs": [
        {
          "output_type": "stream",
          "name": "stdout",
          "text": [
            "500\n",
            "3\n",
            "450\n",
            "350\n",
            "250\n",
            "1\n"
          ]
        }
      ]
    },
    {
      "cell_type": "code",
      "source": [
        "#ej 9, primer y ultimo digito\n",
        "\n",
        "n=int(input())\n",
        "\n",
        "ultimodigito=(n % 10)\n",
        "while n >= 10: \n",
        "   n = n // 10;\n",
        "   primerdigito=n\n",
        "      \n",
        "print(f\"{primerdigito}{ultimodigito}\")"
      ],
      "metadata": {
        "colab": {
          "base_uri": "https://localhost:8080/"
        },
        "id": "J2-vXB9sKFFc",
        "outputId": "8dc8c7aa-04dc-4aca-ec6b-4bcc81223b5c"
      },
      "execution_count": null,
      "outputs": [
        {
          "output_type": "stream",
          "name": "stdout",
          "text": [
            "987654321\n",
            "91\n"
          ]
        }
      ]
    },
    {
      "cell_type": "code",
      "source": [
        "#ej 10 el union jack banderita \n",
        "a = int(input())\n",
        "b = int(input())\n",
        "cero = '0'\n",
        "mas = '+'\n",
        "for i in range (0,b,1):\n",
        "    if i != b//2:\n",
        "        print ((a//2)*cero+'+'+(a//2)*cero)\n",
        "    else:\n",
        "        print (mas*a)"
      ],
      "metadata": {
        "id": "yLuHEpN1OLQS"
      },
      "execution_count": null,
      "outputs": []
    },
    {
      "cell_type": "code",
      "source": [
        "#ej 11 polifactores\n",
        "A=int(input())\n",
        "P=int(input())\n",
        "Q=int(input())\n",
        "N=A\n",
        "cont=0\n",
        "for i in range (P,Q+1):\n",
        "  if A/i != A//i:\n",
        "    break\n",
        "  A/=i  \n",
        "  cont+=(i)\n",
        "suma=0\n",
        "for j in range (P,Q+1):\n",
        "  suma+=j  \n",
        "if cont==suma:\n",
        "  print(N,\"es polifactor entre\",P,\"y\", Q)\n",
        "else:\n",
        "  print(N,\"no es polifactor entre\",P,\"y\", Q)"
      ],
      "metadata": {
        "id": "g9mNdF0TOOX5",
        "colab": {
          "base_uri": "https://localhost:8080/"
        },
        "outputId": "68d2d4e8-caee-4f74-ae05-a9e166d4a611"
      },
      "execution_count": null,
      "outputs": [
        {
          "output_type": "stream",
          "name": "stdout",
          "text": [
            "3628800\n",
            "1 \n",
            "10\n",
            "3628800 es polifactor entre 1 y 10\n"
          ]
        }
      ]
    },
    {
      "cell_type": "code",
      "source": [
        "#ej12 dane \n",
        "\n",
        "N=int(input())\n",
        "P1=0\n",
        "for i in range(1,N+1):\n",
        "  P=float(input())\n",
        "  P2=int(P*i-P1)\n",
        "  print(P2)\n",
        "  P1+=P2"
      ],
      "metadata": {
        "id": "mwpewktUZWuq"
      },
      "execution_count": null,
      "outputs": []
    },
    {
      "cell_type": "markdown",
      "source": [
        "# Modulo 6: Listas\n"
      ],
      "metadata": {
        "id": "zQHJEoDmd7V8"
      }
    },
    {
      "cell_type": "code",
      "source": [
        "#ejercicio 1, Aprendiendo los numeros\n",
        "\n",
        "numeros=[]\n",
        "n = int(input())  #numero de veces que se repite\n",
        "for i in range(n):\n",
        "  numero = int(input())\n",
        "  numeros.append(numero) \n",
        "\n",
        "unos = numeros.count(1)\n",
        "print(f\"1: {unos}\")\n",
        "doses = numeros.count(2)\n",
        "print(f\"2: {doses}\")\n",
        "treses = numeros.count(3)\n",
        "print(f\"3: {treses}\")\n",
        "cuatros = numeros.count(4)\n",
        "print(f\"4: {cuatros}\")\n",
        "cincos = numeros.count(5)\n",
        "print(f\"5: {cincos}\")  #se puede hacer en una sola sinea con \\n pero ya que "
      ],
      "metadata": {
        "colab": {
          "base_uri": "https://localhost:8080/"
        },
        "id": "z5snWnYNd--8",
        "outputId": "60981232-b625-4c20-cb94-46195bf98369"
      },
      "execution_count": null,
      "outputs": [
        {
          "output_type": "stream",
          "name": "stdout",
          "text": [
            "10\n",
            "3\n",
            "82\n",
            "3\n",
            "5\n",
            "17\n",
            "5\n",
            "39\n",
            "2\n",
            "5\n",
            "24\n",
            "1: 0\n",
            "2: 1\n",
            "3: 2\n",
            "4: 0\n",
            "5: 3\n"
          ]
        }
      ]
    },
    {
      "cell_type": "code",
      "source": [
        "#ejercicio 2, club mas ganador \n",
        "\n",
        "n= int(input())\n",
        "Ballenota= []\n",
        "Mandril=[]\n",
        "\n",
        "MarcadorBallenota= 0\n",
        "MarcadorMandril= 0 \n",
        "\n",
        "for i in range (n): \n",
        "  GolesBallenota = int(input())\n",
        "  Ballenota.append(GolesBallenota)\n",
        " # print(Ballenota)\n",
        "  \n",
        "for i in range (n):\n",
        "  GolesMandril= int(input())\n",
        "  Mandril.append(GolesMandril)\n",
        "  #print(Mandril)\n",
        "\n",
        "for i in range (n):\n",
        "  if  Ballenota[i] ==  Mandril[i]:\n",
        "    MarcadorBallenota += 1\n",
        "    MarcadorMandril += 1\n",
        "  elif Ballenota[i] > Mandril[i]:\n",
        "    MarcadorBallenota += 2 \n",
        "  elif Mandril[i] > Ballenota[i]:\n",
        "    MarcadorMandril +=2 \n",
        "  \n",
        "print(f\"Ballenota Futbol Club: {MarcadorBallenota}\")\n",
        "print(f\"Real Mandril: {MarcadorMandril}\")"
      ],
      "metadata": {
        "colab": {
          "base_uri": "https://localhost:8080/"
        },
        "id": "1fI2dAx8kWiv",
        "outputId": "d3a136ae-c8af-4198-928b-6fd9392adea1"
      },
      "execution_count": null,
      "outputs": [
        {
          "output_type": "stream",
          "name": "stdout",
          "text": [
            "5\n",
            "2\n",
            "[2]\n",
            "3\n",
            "[2, 3]\n",
            "0\n",
            "[2, 3, 0]\n",
            "1\n",
            "[2, 3, 0, 1]\n",
            "0\n",
            "[2, 3, 0, 1, 0]\n",
            "1\n",
            "[1]\n",
            "4\n",
            "[1, 4]\n",
            "0\n",
            "[1, 4, 0]\n",
            "0\n",
            "[1, 4, 0, 0]\n",
            "2\n",
            "[1, 4, 0, 0, 2]\n",
            "Ballenota Futbol Club : 5\n",
            "Real Mandril: 5\n"
          ]
        }
      ]
    },
    {
      "cell_type": "code",
      "source": [
        "#ej3, buscar elementos repetidos de una lista de laminitas\n",
        "\n",
        "Laminitas= []\n",
        "\n",
        "while True:\n",
        "    N=int(input())\n",
        "    if N!= 0:\n",
        "     Laminitas.append(N)\n",
        "    elif N == 0:\n",
        "      break\n",
        "Cuantas = {i:Laminitas.count(i) for i in Laminitas}   \n",
        "#resuelto por diccionario \n",
        "\n",
        "#print(Laminitas)\n",
        "print(len(Cuantas))"
      ],
      "metadata": {
        "id": "gC9AVOObm2SV",
        "colab": {
          "base_uri": "https://localhost:8080/"
        },
        "outputId": "597f0a0b-982c-4b2e-eb3a-2ddcadb69f18"
      },
      "execution_count": null,
      "outputs": [
        {
          "output_type": "stream",
          "name": "stdout",
          "text": [
            "21\n",
            "47\n",
            "35\n",
            "658\n",
            "47\n",
            "1\n",
            "100\n",
            "9\n",
            "35\n",
            "47\n",
            "0\n",
            "[21, 47, 35, 658, 47, 1, 100, 9, 35, 47]\n",
            "7\n"
          ]
        }
      ]
    },
    {
      "cell_type": "code",
      "source": [
        "#ej 4 indice de desigualdad\n",
        "\n",
        "Salarios=[]\n",
        "while True:\n",
        "    N=int(input())\n",
        "    if N!= 0:\n",
        "     Salarios.append(N)\n",
        "    elif N == 0:\n",
        "      break\n",
        "\n",
        "Salarios.sort(reverse=True)\n",
        "\n",
        "#print(Salarios[2], Salarios[-3],len(Salarios)), menos mal no hay que quitar los repetidos\n",
        "Indice= (Salarios[2]-Salarios[-3])/((len(Salarios))**2)\n",
        "Indice=round(Indice,2)\n",
        "print(Indice)"
      ],
      "metadata": {
        "id": "KhAlDbmGoYV1",
        "colab": {
          "base_uri": "https://localhost:8080/"
        },
        "outputId": "1edd72e4-5b29-44b3-8057-9ff03ff112e0"
      },
      "execution_count": null,
      "outputs": [
        {
          "output_type": "stream",
          "name": "stdout",
          "text": [
            "200000\n",
            "500000\n",
            "700000\n",
            "900000\n",
            "200000\n",
            "400000\n",
            "600000\n",
            "100000\n",
            "800000\n",
            "0\n",
            "6172.84\n"
          ]
        }
      ]
    },
    {
      "cell_type": "code",
      "source": [
        "#ej 5, leyes de probabilidad de un planeta extraño en guerras \n",
        "\n",
        "N= int(input())\n",
        "AlturasBando1=[]\n",
        "AlturasBando2=[]\n",
        "Sobrevivientes= 0\n",
        "\n",
        "for i in range(N):\n",
        "  Altura1=int(input())\n",
        "  AlturasBando1.append(Altura1)\n",
        "\n",
        "for i in range(N):\n",
        "  Altura2=int(input())\n",
        "  AlturasBando2.append(Altura2)\n",
        "\n",
        "AlturasBando1.sort()\n",
        "AlturasBando2.sort(reverse=True)\n",
        "\n",
        "#print(AlturasBando1, AlturasBando2)\n",
        "\n",
        "for i in range(N):\n",
        "  if((AlturasBando1[i]) %2 == 0 and (AlturasBando2[i]) %2 == 0):\n",
        "    Sobrevivientes -=0\n",
        "  elif( (AlturasBando1[i] %2 != 0) and (AlturasBando2[i] %2 != 0)):\n",
        "    Sobrevivientes -=0\n",
        "  elif(((AlturasBando1[i]) %2 == 0 and (AlturasBando2[i]) %2 != 0) or ((AlturasBando1[i]) %2 != 0 and (AlturasBando2[i]) %2 == 0)):\n",
        "    Sobrevivientes +=2\n",
        "\n",
        "print(f\"Sobreviven {Sobrevivientes} soldados\")\n",
        "\n",
        " #probelema con caso 1, 180, 179, dice que no sobreviven cuando deberíoa\n",
        " #problema para caso 2, 170, 175,180,165, preguntar el martes"
      ],
      "metadata": {
        "colab": {
          "base_uri": "https://localhost:8080/"
        },
        "id": "xFmP_H1BmozC",
        "outputId": "285795dc-73b0-4c26-c5ba-08f3892a8f24"
      },
      "execution_count": null,
      "outputs": [
        {
          "output_type": "stream",
          "name": "stdout",
          "text": [
            "4\n",
            "151\n",
            "154\n",
            "153\n",
            "152\n",
            "160\n",
            "150\n",
            "180\n",
            "170\n",
            "[151, 152, 153, 154] [180, 170, 160, 150]\n",
            "Sobreviven 4 soldados\n"
          ]
        }
      ]
    },
    {
      "cell_type": "code",
      "source": [
        "#ej7: Bingo wochenemde \n",
        "\n",
        "Spieleren=int(input())\n",
        "Spiele=int(input())\n",
        "Gewinner=[]\n",
        "players={}\n",
        "\n",
        "for i in range(Spiele):\n",
        "  Ganador=int(input())\n",
        "  Gewinner.append(Ganador)\n",
        " \n",
        "for i in range(Spieleren):\n",
        "  players[i+1] = Gewinner.count(i + 1)\n",
        "\n",
        "PlusGewinner= [key for key, value in players.items() if value == max(players.values())]\n",
        "\n",
        "for Gewinner in PlusGewinner:\n",
        "  print(Gewinner)"
      ],
      "metadata": {
        "id": "Q4ToDwW29Y0x",
        "colab": {
          "base_uri": "https://localhost:8080/"
        },
        "outputId": "e990ac62-dd51-41c2-cbb6-d04c27b02a00"
      },
      "execution_count": null,
      "outputs": [
        {
          "output_type": "stream",
          "name": "stdout",
          "text": [
            "6\n",
            "10\n",
            "3\n",
            "5\n",
            "2\n",
            "1\n",
            "4\n",
            "2\n",
            "2\n",
            "5\n",
            "1\n",
            "5\n",
            "2\n",
            "5\n"
          ]
        }
      ]
    },
    {
      "cell_type": "code",
      "source": [
        "#Biespiel 7 ein paar von perfeckt Trauben #kein wort fur racimos \n",
        "\n",
        "num=[]\n",
        "res=[]\n",
        "\n",
        "TraubenNummer= int(input())\n",
        "num.append(TraubenNummer)\n",
        "while TraubenNummer != 0:\n",
        "  TraubenNummer= int(input())\n",
        "  if TraubenNummer!= 0:\n",
        "    num.append(TraubenNummer)\n",
        "  else: \n",
        "    break\n",
        "\n",
        "for i in num:\n",
        "  sum=0\n",
        "  j=1\n",
        "  while sum < i and j > 0:\n",
        "    sum = j*(j+1)/2\n",
        "    j+=1 \n",
        "  if sum == i:\n",
        "    res.append(\"Puede ser un racimo ideal\")\n",
        "  else:\n",
        "    res.append(\"No puede ser un racimo ideal\")\n",
        "\n",
        "for k in res: \n",
        "  print(k)\n",
        "  "
      ],
      "metadata": {
        "id": "6Vct6Dp0UI7a",
        "colab": {
          "base_uri": "https://localhost:8080/"
        },
        "outputId": "d8090caa-acda-434c-87c1-25deb446a728"
      },
      "execution_count": null,
      "outputs": [
        {
          "output_type": "stream",
          "name": "stdout",
          "text": [
            "6\n",
            "16\n",
            "21\n",
            "1\n",
            "2\n",
            "0\n",
            "Puede ser un racimo ideal\n",
            "No puede ser un racimo ideal\n",
            "Puede ser un racimo ideal\n",
            "Puede ser un racimo ideal\n",
            "No puede ser un racimo ideal\n"
          ]
        }
      ]
    },
    {
      "cell_type": "code",
      "source": [
        "#Beispiel 8, Findt die fehler Nummer von eine bestellt ZahlenListe\n",
        "\n",
        "WieViele = int(input())\n",
        "Zahlen = list(range(1,WieViele+1))\n",
        "Gefunden= []\n",
        "\n",
        "print(Zahlen)\n",
        "\n",
        "fehlen = []  #missing\n",
        "for Element in range (Zahlen[0], Zahlen[-1]):\n",
        "    Element= int(input())\n",
        "    if Element not in Zahlen:\n",
        "      fehlen.append(Element)\n",
        "print(f\"La ficha faltante es la {fehlen}\")\n",
        "\n",
        "#no coge el numero que falta, es macht die ZahlenList gut, und es erhält das korrekt inputNummer\n",
        "#Hilfe:  https://djangocentral.com/find-missing-number-in-an-array-using-python/"
      ],
      "metadata": {
        "colab": {
          "base_uri": "https://localhost:8080/"
        },
        "id": "M7skz0lgWbmh",
        "outputId": "c6e21a70-6659-437c-faae-fd4700145076"
      },
      "execution_count": null,
      "outputs": [
        {
          "output_type": "stream",
          "name": "stdout",
          "text": [
            "10\n",
            "[1, 2, 3, 4, 5, 6, 7, 8, 9, 10]\n",
            "1\n",
            "2\n",
            "3\n",
            "4\n",
            "6\n",
            "7\n",
            "8\n",
            "9\n",
            "10\n",
            "La ficha faltante es la []\n"
          ]
        }
      ]
    },
    {
      "cell_type": "code",
      "source": [
        "fichas = []\n",
        "NumeroDeNumeros=int(input())\n",
        "\n",
        "for i in range(NumeroDeNumeros - 1):\n",
        "    ficha = int(input())\n",
        "    fichas.append(ficha)\n",
        "fichas.sort()\n",
        "\n",
        "for i in range(NumeroDeNumeros):\n",
        "  try:\n",
        "    if fichas[i] != i + 1:\n",
        "      print(f'La ficha faltante es la {i + 1}')\n",
        "      break\n",
        "     #no me daba, de internet 9\n",
        "  except:\n",
        "      print(f'La ficha faltante es la {i + 1}')\n",
        "      break"
      ],
      "metadata": {
        "colab": {
          "base_uri": "https://localhost:8080/"
        },
        "id": "h3DZiPPmPuFF",
        "outputId": "171baffd-03b7-4bc5-f19b-bf99402d390d"
      },
      "execution_count": null,
      "outputs": [
        {
          "output_type": "stream",
          "name": "stdout",
          "text": [
            "10\n",
            "1\n",
            "2\n",
            "3\n",
            "4\n",
            "6\n",
            "7\n",
            "8\n",
            "9\n",
            "10\n",
            "La ficha faltante es la 5\n"
          ]
        }
      ]
    },
    {
      "cell_type": "code",
      "source": [
        "#ej 9 gewinnende Paare\n",
        "IDNummer= []\n",
        "Addieren1995=0\n",
        "numerox= 1 \n",
        "\n",
        " \n",
        "while numerox != 0:\n",
        "    numerox = int(input())\n",
        "    IDNummer.append(numerox) #otra manera de tomar input hasta 0 \n",
        "\n",
        "IDNummer.pop()\n",
        "\n",
        "for i in IDNummer:\n",
        "    if 1995 - i in IDNummer:\n",
        "      Addieren1995 += 1\n",
        "\n",
        "print(int(Addieren1995 / 2))"
      ],
      "metadata": {
        "colab": {
          "base_uri": "https://localhost:8080/"
        },
        "id": "NJshB4-iQq8c",
        "outputId": "015faba8-04f8-42dc-b764-73df049a33ce"
      },
      "execution_count": null,
      "outputs": [
        {
          "output_type": "stream",
          "name": "stdout",
          "text": [
            "1000\n",
            "300\n",
            "84\n",
            "995\n",
            "750\n",
            "1911\n",
            "0\n",
            "2\n"
          ]
        }
      ]
    },
    {
      "cell_type": "markdown",
      "source": [
        "# Módulo 7: Funciones\n"
      ],
      "metadata": {
        "id": "QkPTF6GrvCHy"
      }
    },
    {
      "cell_type": "code",
      "source": [
        "#ej 4: relatividad especial einstein\n",
        "from math import sqrt\n",
        "def Lorentz(v):\n",
        "  c=299792458\n",
        "  L = 1/(1-((v**2)/(c**2))**(1/2))\n",
        "  return round(L, 15)\n",
        "\n",
        "N=int(input())\n",
        "ListaLorentz=[]\n",
        "\n",
        "for i in range(N):\n",
        "  v=float(input())\n",
        "  ListaLorentz.append(Lorentz(v))\n",
        "\n",
        "for i in range(N):\n",
        "  print(ListaLorentz[i])\n"
      ],
      "metadata": {
        "colab": {
          "base_uri": "https://localhost:8080/"
        },
        "id": "zpFj09CLvEI6",
        "outputId": "e42dbdf5-fd9c-4d60-fec1-0f6045aa350d"
      },
      "execution_count": null,
      "outputs": [
        {
          "output_type": "stream",
          "name": "stdout",
          "text": [
            "4\n",
            "12\n",
            "123\n",
            "1234\n",
            "12345\n",
            "1.000000040027693\n",
            "1.000000410284005\n",
            "1.000004116197878\n",
            "1.00004118018329\n"
          ]
        }
      ]
    },
    {
      "cell_type": "code",
      "source": [
        "#ej4 otra manera \n",
        "\n",
        "import math\n",
        "\n",
        "\n",
        "def lorentz(v):\n",
        "    c = 299792458  # c velocidad de la luz\n",
        "    v = v / 3.6  # km/h a m/s\n",
        "    Lorentz = (1\n",
        "              /\n",
        "              (math.sqrt (1 - ((v ** 2)/(c ** 2))))\n",
        "              )\n",
        "    return round(Lorentz, 15) \n",
        "\n",
        "\n",
        "def main():\n",
        "    N = int(input())\n",
        "\n",
        "    for i in range(N):\n",
        "        v_ = float(input())\n",
        "        print(lorentz(v_))\n",
        "\n",
        "if __name__ == '__main__':\n",
        "    main()"
      ],
      "metadata": {
        "colab": {
          "base_uri": "https://localhost:8080/"
        },
        "id": "FjzrZvLxNFzF",
        "outputId": "da9ec8bc-e2b2-498d-d4fa-2915f31d554b"
      },
      "execution_count": null,
      "outputs": [
        {
          "output_type": "stream",
          "name": "stdout",
          "text": [
            "4\n",
            "12\n",
            "1.0\n",
            "123\n",
            "1.000000000000007\n",
            "1234\n",
            "1.000000000000654\n",
            "12345\n",
            "1.000000000065419\n"
          ]
        }
      ]
    },
    {
      "cell_type": "code",
      "source": [
        "#ej 5: Pares y nones\n",
        "import math\n",
        "\n",
        "def f(x):\n",
        " return math.sqrt(2+5*x)\n",
        "def g(x):\n",
        " return (4+x)**3\n",
        "  \n",
        "def KronkMachtsEtwas():\n",
        "   while True:\n",
        "        N = float(input())\n",
        "        if N == 0:\n",
        "            break\n",
        "        elif N % 2 == 0:\n",
        "            print(f(g(N)))\n",
        "        elif N%2 != 0:\n",
        "            print(g(f(N)))\n",
        "KronkMachtsEtwas()"
      ],
      "metadata": {
        "colab": {
          "base_uri": "https://localhost:8080/"
        },
        "id": "46wRN7ECTHUt",
        "outputId": "84b5a8d5-4eba-4222-9325-d181a73ef68c"
      },
      "execution_count": null,
      "outputs": [
        {
          "name": "stdout",
          "output_type": "stream",
          "text": [
            "4\n",
            "50.61620293937506\n",
            "15\n",
            "2084.8705484240154\n",
            "382\n",
            "16957.661454339745\n",
            "0\n"
          ]
        }
      ]
    },
    {
      "cell_type": "code",
      "source": [
        "#ej6 hyperpares \n",
        "\n",
        "def Hyperpar(value):\n",
        "    Liste = trennen(value)\n",
        "    LösungenListe = []\n",
        "\n",
        "    for num in Liste:\n",
        "        if num % 2 == 0:\n",
        "            LösungenListe.append(True)\n",
        "    if len(LösungenListe) == len(Liste):\n",
        "        print('Hyperpar')\n",
        "    else:\n",
        "        print('No es hyperpar')\n",
        "\n",
        "def trennen(int_):\n",
        "    return [int(a) for a in str(int_)]\n",
        "\n",
        "\n",
        "def DataFragen():\n",
        "    while True:\n",
        "        value = input()\n",
        "        if value == '-1':\n",
        "            break\n",
        "        else:\n",
        "            Hyperpar(value)\n",
        "\n",
        "DataFragen()"
      ],
      "metadata": {
        "colab": {
          "base_uri": "https://localhost:8080/"
        },
        "id": "N3Fz0KzgW88D",
        "outputId": "a9a2e5b9-81a6-470b-baa1-c2ef6392c713"
      },
      "execution_count": null,
      "outputs": [
        {
          "name": "stdout",
          "output_type": "stream",
          "text": [
            "123\n",
            "No es hyperpar\n",
            "46\n",
            "Hyperpar\n",
            "89\n",
            "No es hyperpar\n",
            "90\n",
            "No es hyperpar\n",
            "-1\n"
          ]
        }
      ]
    },
    {
      "cell_type": "code",
      "source": [
        "#ej 7 Obsesion de familia\n",
        "\n",
        "def Funktion(X):\n",
        "  if X % 123 == 0:\n",
        "    return 0\n",
        "  else:\n",
        "    return 1 + Funktion(X+23) \n",
        "\n",
        "def Zeigen():\n",
        "  N= int(input())\n",
        "  for i in range(N):\n",
        "    X= int(input())\n",
        "    Funktion(X)\n",
        "    print(Funktion(X))\n",
        "\n",
        "Zeigen()\n"
      ],
      "metadata": {
        "colab": {
          "base_uri": "https://localhost:8080/"
        },
        "id": "LuwspIJUZHJL",
        "outputId": "f6738636-99ba-42b8-bd28-365e80bc0fc1"
      },
      "execution_count": null,
      "outputs": [
        {
          "output_type": "stream",
          "name": "stdout",
          "text": [
            "4\n",
            "123\n",
            "0\n",
            "100\n",
            "1\n",
            "246\n",
            "0\n",
            "999\n",
            "117\n"
          ]
        }
      ]
    },
    {
      "cell_type": "code",
      "source": [
        "#ej8:PAN/ Brot\n",
        "import math\n",
        "\n",
        "def P(x):\n",
        "  return 2*x+1\n",
        "def A(x):\n",
        "  return 3**x\n",
        "def N(x):\n",
        "  return math.sqrt(5*x)+4\n",
        "\n",
        "def Zeigen():\n",
        "  N= int(input())\n",
        "\n",
        "  for i in range(N):\n",
        "    Nummer = float(input())\n",
        "    print(P(A(N(Nummer))))\n",
        "    \n",
        "Zeigen()\n"
      ],
      "metadata": {
        "colab": {
          "base_uri": "https://localhost:8080/",
          "height": 356
        },
        "id": "pVQlD5I3cpW6",
        "outputId": "c1bfefa3-34f2-4cde-be23-3c7091e760b3"
      },
      "execution_count": null,
      "outputs": [
        {
          "name": "stdout",
          "output_type": "stream",
          "text": [
            "3\n",
            "2\n"
          ]
        },
        {
          "output_type": "error",
          "ename": "TypeError",
          "evalue": "ignored",
          "traceback": [
            "\u001b[0;31m---------------------------------------------------------------------------\u001b[0m",
            "\u001b[0;31mTypeError\u001b[0m                                 Traceback (most recent call last)",
            "\u001b[0;32m<ipython-input-3-42d9c497d108>\u001b[0m in \u001b[0;36m<module>\u001b[0;34m\u001b[0m\n\u001b[1;32m     16\u001b[0m     \u001b[0mprint\u001b[0m\u001b[0;34m(\u001b[0m\u001b[0mP\u001b[0m\u001b[0;34m(\u001b[0m\u001b[0mA\u001b[0m\u001b[0;34m(\u001b[0m\u001b[0mN\u001b[0m\u001b[0;34m(\u001b[0m\u001b[0mNummer\u001b[0m\u001b[0;34m)\u001b[0m\u001b[0;34m)\u001b[0m\u001b[0;34m)\u001b[0m\u001b[0;34m)\u001b[0m\u001b[0;34m\u001b[0m\u001b[0;34m\u001b[0m\u001b[0m\n\u001b[1;32m     17\u001b[0m \u001b[0;34m\u001b[0m\u001b[0m\n\u001b[0;32m---> 18\u001b[0;31m \u001b[0mZeigen\u001b[0m\u001b[0;34m(\u001b[0m\u001b[0;34m)\u001b[0m\u001b[0;34m\u001b[0m\u001b[0;34m\u001b[0m\u001b[0m\n\u001b[0m",
            "\u001b[0;32m<ipython-input-3-42d9c497d108>\u001b[0m in \u001b[0;36mZeigen\u001b[0;34m()\u001b[0m\n\u001b[1;32m     14\u001b[0m   \u001b[0;32mfor\u001b[0m \u001b[0mi\u001b[0m \u001b[0;32min\u001b[0m \u001b[0mrange\u001b[0m\u001b[0;34m(\u001b[0m\u001b[0mN\u001b[0m\u001b[0;34m)\u001b[0m\u001b[0;34m:\u001b[0m\u001b[0;34m\u001b[0m\u001b[0;34m\u001b[0m\u001b[0m\n\u001b[1;32m     15\u001b[0m     \u001b[0mNummer\u001b[0m \u001b[0;34m=\u001b[0m \u001b[0mfloat\u001b[0m\u001b[0;34m(\u001b[0m\u001b[0minput\u001b[0m\u001b[0;34m(\u001b[0m\u001b[0;34m)\u001b[0m\u001b[0;34m)\u001b[0m\u001b[0;34m\u001b[0m\u001b[0;34m\u001b[0m\u001b[0m\n\u001b[0;32m---> 16\u001b[0;31m     \u001b[0mprint\u001b[0m\u001b[0;34m(\u001b[0m\u001b[0mP\u001b[0m\u001b[0;34m(\u001b[0m\u001b[0mA\u001b[0m\u001b[0;34m(\u001b[0m\u001b[0mN\u001b[0m\u001b[0;34m(\u001b[0m\u001b[0mNummer\u001b[0m\u001b[0;34m)\u001b[0m\u001b[0;34m)\u001b[0m\u001b[0;34m)\u001b[0m\u001b[0;34m)\u001b[0m\u001b[0;34m\u001b[0m\u001b[0;34m\u001b[0m\u001b[0m\n\u001b[0m\u001b[1;32m     17\u001b[0m \u001b[0;34m\u001b[0m\u001b[0m\n\u001b[1;32m     18\u001b[0m \u001b[0mZeigen\u001b[0m\u001b[0;34m(\u001b[0m\u001b[0;34m)\u001b[0m\u001b[0;34m\u001b[0m\u001b[0;34m\u001b[0m\u001b[0m\n",
            "\u001b[0;31mTypeError\u001b[0m: 'int' object is not callable"
          ]
        }
      ]
    },
    {
      "cell_type": "code",
      "source": [
        "#ej 9, Función de ackerman\n",
        "\n",
        "def Ackerman(m, n):\n",
        "    if m == 0:\n",
        "        return n + 1\n",
        "    elif m > 0 and n == 0:\n",
        "        return A(m - 1, 1)\n",
        "    elif m > 0 and n > 0:\n",
        "        return A(m - 1, A(m, n - 1))\n",
        "\n",
        "def Cosa():\n",
        "  Zahlen= int(input())\n",
        "  for i in range(Zahlen):\n",
        "        m = int(input())\n",
        "        n = int(input())\n",
        "        print(Ackerman(m, n))\n",
        "\n",
        "Cosa()"
      ],
      "metadata": {
        "id": "QfNdAidncvCl"
      },
      "execution_count": null,
      "outputs": []
    },
    {
      "cell_type": "code",
      "source": [
        "#ej 10 Perfekte Zahlen\n",
        "\n",
        "def IstEsPerfekt(n):\n",
        "  Summe=0\n",
        "  divisores=[]\n",
        "  for i in range (1, n):\n",
        "    if n % i == 0:\n",
        "      divisores.append(i)\n",
        "  Gesamt= sum(divisores)\n",
        "  if Gesamt == n:\n",
        "      print(f\"{n} es perfecto\")\n",
        "  else:\n",
        "      print(f\"{n} no es perfecto\")\n",
        "\n",
        "\n",
        "def ZahlenErhalten():\n",
        "  Summe=0\n",
        "  Zahlen= int(input())\n",
        "\n",
        "  for i in range(Zahlen):\n",
        "    n = int(input())\n",
        "    IstEsPerfekt(n)\n",
        "        \n",
        "   \n",
        "\n",
        "ZahlenErhalten()\n",
        "\n",
        "    "
      ],
      "metadata": {
        "colab": {
          "base_uri": "https://localhost:8080/"
        },
        "id": "qcSzWeKPhxw8",
        "outputId": "f2b9dda9-3189-4c48-f6d2-0cccfd59025a"
      },
      "execution_count": null,
      "outputs": [
        {
          "output_type": "stream",
          "name": "stdout",
          "text": [
            "3\n",
            "15\n",
            "15 no es perfecto\n",
            "240\n",
            "240 no es perfecto\n",
            "28\n",
            "28 es perfecto\n"
          ]
        }
      ]
    },
    {
      "cell_type": "code",
      "source": [
        "#ej 10: starken nummer\n",
        "\n",
        "import math\n",
        "\n",
        "def IstEsStark(n):\n",
        "  Summe=0\n",
        "  intn= str(n)\n",
        "  Liste = [int(x) for x in str(intn)]\n",
        "  #print(Liste)\n",
        "  for i in range(len(Liste)):\n",
        "    char = Liste[i]\n",
        "    factorial = math.factorial(char)\n",
        "    Summe += factorial\n",
        "  \n",
        "  if Summe == n:\n",
        "    print(f\"{n} es fuerte\")\n",
        "  else:\n",
        "    print(f\"{n} no es fuerte\")\n",
        "\n",
        "\n",
        "def ZahlenErhalten():\n",
        "  Summe=0\n",
        "  Zahlen= int(input())\n",
        "\n",
        "  for i in range(Zahlen):\n",
        "    n = int(input())\n",
        "    IstEsStark(n)\n",
        "\n",
        "ZahlenErhalten()"
      ],
      "metadata": {
        "colab": {
          "base_uri": "https://localhost:8080/"
        },
        "id": "jlVCLzcAyg05",
        "outputId": "67201fa2-b227-4927-9581-7a5f4c04c523"
      },
      "execution_count": null,
      "outputs": [
        {
          "output_type": "stream",
          "name": "stdout",
          "text": [
            "2\n",
            "1\n",
            "1 es fuerte\n",
            "145\n",
            "145 es fuerte\n"
          ]
        }
      ]
    },
    {
      "cell_type": "markdown",
      "source": [
        "# MODULO 8: Aplicaciones\n"
      ],
      "metadata": {
        "id": "_lqWbYHF-FQg"
      }
    },
    {
      "cell_type": "code",
      "source": [
        "#ej 1 Bandera escocesa\n",
        "\n",
        "def BanderaEscocesa(n):\n",
        "    bandera = ''\n",
        "\n",
        "    for k in range(n):\n",
        "        for i in range(n):\n",
        "            if k == i or i + k == n - 1:\n",
        "                bandera += '#'\n",
        "            else:\n",
        "                bandera += '0'\n",
        "\n",
        "        bandera += '\\n'\n",
        "\n",
        "    print(bandera)\n",
        "\n",
        "while True:\n",
        "    N=int(input())\n",
        "    if N!= 0:\n",
        "      BanderaEscocesa(N) \n",
        "    elif N == 0:\n",
        "      break\n"
      ],
      "metadata": {
        "id": "Hja31B1N-JPH",
        "colab": {
          "base_uri": "https://localhost:8080/"
        },
        "outputId": "76e4cd9f-de6b-4ca7-c41f-01420a499428"
      },
      "execution_count": null,
      "outputs": [
        {
          "name": "stdout",
          "output_type": "stream",
          "text": [
            "3\n",
            "#0#\n",
            "0#0\n",
            "#0#\n",
            "\n",
            "4\n",
            "#00#\n",
            "0##0\n",
            "0##0\n",
            "#00#\n",
            "\n",
            "5\n",
            "#000#\n",
            "0#0#0\n",
            "00#00\n",
            "0#0#0\n",
            "#000#\n",
            "\n",
            "0\n"
          ]
        }
      ]
    },
    {
      "cell_type": "code",
      "source": [
        "#ej 2 Serie de Lucas\n",
        "\n",
        "def SerieDeLucas(Anfang, Finale):\n",
        "  counter=0\n",
        "  a = 2  \n",
        "  b = 1 \n",
        "  c= b + a\n",
        "  while c <= Finale:\n",
        "    c = b+a\n",
        "    #print(f\"c es {c}\")\n",
        "    a = b\n",
        "    b = c\n",
        "    if (c >= Anfang and c <= Finale):\n",
        "      counter += 1\n",
        "      #print(counter)\n",
        "    elif c > Finale: \n",
        "      break\n",
        "  print(counter)\n",
        "      \n",
        "\n",
        "def main():\n",
        "  Anfang= int(input())\n",
        "  Finale= int(input())\n",
        "  SerieDeLucas(Anfang, Finale)\n",
        "\n",
        "main()\n"
      ],
      "metadata": {
        "colab": {
          "base_uri": "https://localhost:8080/"
        },
        "id": "nroEyb3ansHZ",
        "outputId": "2c20d4e3-de0c-4e8e-e095-655c70eb3a83"
      },
      "execution_count": null,
      "outputs": [
        {
          "output_type": "stream",
          "name": "stdout",
          "text": [
            "3\n",
            "76\n",
            "8\n"
          ]
        }
      ]
    },
    {
      "cell_type": "code",
      "source": [
        "#ej 3 numeros armstrong \n",
        "\n",
        "def IstEsArmstrong(n):\n",
        "    Liste = trennen(n)\n",
        "    sumquadrat=0\n",
        "    #print(Liste)\n",
        "    Digitos = len(Liste)\n",
        "    for num in Liste:\n",
        "      CifraQuadrat= num**(Digitos)\n",
        "      sumquadrat += CifraQuadrat\n",
        "    #print(f\"sumquadrat is {sumquadrat}\\n n is {n}\")\n",
        "    if sumquadrat == n:\n",
        "        print(f\"{n} es Armstrong\")\n",
        "    else:\n",
        "        print(f\"{n} no es Armstrong\")\n",
        "\n",
        "def trennen(n):\n",
        "    return [int(a) for a in str(n)]\n",
        "\n",
        "\n",
        "def DataFragen():\n",
        "  Summe=0\n",
        "  Zahlen= int(input())\n",
        "\n",
        "  for i in range(Zahlen):\n",
        "    n = int(input())\n",
        "    IstEsArmstrong(n)\n",
        "\n",
        "DataFragen()"
      ],
      "metadata": {
        "colab": {
          "base_uri": "https://localhost:8080/"
        },
        "id": "EPyV_ohh3-DI",
        "outputId": "69e76f4d-04ac-43d2-90d2-16bcd5e3d0a7"
      },
      "execution_count": null,
      "outputs": [
        {
          "output_type": "stream",
          "name": "stdout",
          "text": [
            "3\n",
            "371\n",
            "371 es Armstrong\n",
            "41\n",
            "41 no es Armstrong\n",
            "8\n",
            "8 es Armstrong\n"
          ]
        }
      ]
    },
    {
      "cell_type": "code",
      "source": [
        "#ej 4 puntos espejo/Spiegel Punkte\n",
        "\n",
        "\n",
        "def sumaDeLista(lista): \n",
        "  Suma=0\n",
        "  for i in lista: \n",
        "    Suma += i\n",
        "  return Suma \n",
        "\n",
        "def Spiegel(lista):\n",
        "  Spiegel = 0\n",
        "  for i in range(1, len(lista)): \n",
        "    lista1 = lista[:i] #notacion para valores antes de i, i es el finishing point\n",
        "    lista2 = lista[i:] #i es el starting point, lee valores despues de i\n",
        "    SumaLista1 = sumaDeLista(lista1)\n",
        "    #print(f\"Lista 1 {SumaLista1}\")\n",
        "    SumaLista2 = sumaDeLista(lista2)\n",
        "    #print(f\"Lista 2 {SumaLista2}\")\n",
        "    Largo= len(lista1)\n",
        "    #print(f\"Largo {Largo}\")\n",
        "    if SumaLista1  == SumaLista2:\n",
        "        Spiegel += 1\n",
        "    #print(f\"spiegel {Spiegel}\")\n",
        "  return (Spiegel)\n",
        "\n",
        "Valores= []\n",
        "N= int(input())\n",
        "for i in range(N):\n",
        "  Valor = float(input())\n",
        "  Valores.append(Valor)\n",
        "print(Spiegel(Valores))"
      ],
      "metadata": {
        "id": "k_pm2xdidweE",
        "colab": {
          "base_uri": "https://localhost:8080/"
        },
        "outputId": "1d8a8a06-0f01-4e0c-a7f0-157f417fbbc6"
      },
      "execution_count": null,
      "outputs": [
        {
          "output_type": "stream",
          "name": "stdout",
          "text": [
            "3\n",
            "0\n",
            "0\n",
            "0\n",
            "Largo 0\n",
            "Largo 1\n",
            "Largo 2\n",
            "2\n"
          ]
        }
      ]
    },
    {
      "cell_type": "code",
      "source": [
        "# ej 5: Ordnungspiel / juego de ordenamiento \n",
        "\n",
        "def Ordnung(list):\n",
        "    sortedList = sorted(list)\n",
        "    for i in sortedList:\n",
        "        print(list.index(i) + 1)\n",
        "\n",
        "Campistas= []\n",
        "N= int(input())\n",
        "\n",
        "for i in range(N):\n",
        "  Campista = float(input())\n",
        "  Campistas.append(Campista)\n",
        "Ordnung(Campistas)"
      ],
      "metadata": {
        "colab": {
          "base_uri": "https://localhost:8080/"
        },
        "id": "PX_ntO_oAugv",
        "outputId": "eb7e88f4-3e9e-4997-a896-5c93d231194d"
      },
      "execution_count": null,
      "outputs": [
        {
          "output_type": "stream",
          "name": "stdout",
          "text": [
            "3\n",
            "-1.7\n",
            "-2.4\n",
            "-3.5\n",
            "3\n",
            "2\n",
            "1\n"
          ]
        }
      ]
    },
    {
      "cell_type": "code",
      "source": [
        "# ej 6 numeros multi digitos \n",
        "\n",
        "def trennen(n):\n",
        "    return [int(a) for a in str(n)]\n",
        "\n",
        "def Multidigito(N): \n",
        "  contador= 0 #contador del # de #s del 1 al 5 dentro del numero grande\n",
        "  #si el contador es 5, hay 5 numeros del 1 al 5 en el numero grande, osea estan todos del 1 al 5 \n",
        "  #otherwise si el contadoe es menor a 5, no estan todos del 1 al 5 \n",
        "  Liste = trennen(N)\n",
        "  for i in range (1,6):\n",
        "    exist_count = Liste.count(i)\n",
        "    if exist_count > 0:\n",
        "      contador +=1\n",
        "  if contador==5:\n",
        "   print(\"Multidigito\")\n",
        "  elif contador < 5:\n",
        "    print(\"No es multidigito\")\n",
        "\n",
        "while True: \n",
        "  Nummer= int(input())\n",
        "  if Nummer== 0:\n",
        "    break\n",
        "  Multidigito(Nummer)\n"
      ],
      "metadata": {
        "colab": {
          "base_uri": "https://localhost:8080/"
        },
        "id": "LpV7BRfqEKaj",
        "outputId": "00ddc5c6-cce9-4ebb-8c1e-8976c0e93685"
      },
      "execution_count": null,
      "outputs": [
        {
          "name": "stdout",
          "output_type": "stream",
          "text": [
            "12345\n",
            "Multidigito\n",
            "2518431\n",
            "Multidigito\n",
            "54351\n",
            "No es multidigito\n",
            "999999999\n",
            "No es multidigito\n",
            "0\n"
          ]
        }
      ]
    },
    {
      "cell_type": "code",
      "source": [
        "#ej 7 serie de julianachi\n",
        "def julianachi(num):\n",
        "    serie = [1]\n",
        "    # for i in range(num):\n",
        "    while serie[-1] <= num: #para que la serie llegue al numero que queremos\n",
        "        div = 0\n",
        "        for k in range(1, serie[-1] + 1): #de 1 al ultimo de la serie\n",
        "            if serie[-1] % k == 0: #para encontrar divisores\n",
        "                div += 1\n",
        "        serie.append(serie[-1] + div) #va formando la serie en la lista\n",
        "        #appendea el ultimo numero + numero de divisores de ese numero \n",
        "\n",
        "    return serie\n",
        "\n",
        "serie = julianachi(5000)\n",
        "\n",
        "while True:\n",
        "  num = int(input())\n",
        "  if num != 0:\n",
        "    if num in serie:\n",
        "      print('Pertenece a la serie de Julianachi')\n",
        "    else:\n",
        "      print('No pertenece a la serie de Julianachi')\n",
        "  elif num == 0:\n",
        "    break\n"
      ],
      "metadata": {
        "colab": {
          "base_uri": "https://localhost:8080/"
        },
        "id": "FfMdinzBIwm-",
        "outputId": "9ee88f10-76b6-457b-db3f-86aa34da774c"
      },
      "execution_count": null,
      "outputs": [
        {
          "name": "stdout",
          "output_type": "stream",
          "text": [
            "12\n",
            "Pertenece a la serie de Julianachi\n",
            "20\n",
            "No pertenece a la serie de Julianachi\n",
            "999\n",
            "Pertenece a la serie de Julianachi\n",
            "0\n"
          ]
        }
      ]
    },
    {
      "cell_type": "code",
      "source": [
        "#ej 8 color o escaleras \n",
        "\n",
        "def Mano(ListaNumeros,ListaPintas):\n",
        "  counterPica=0\n",
        "  counterTrebol =0   #poner counters para cada pinta, cuando alguno de ellos sea 5 es escalera de color\n",
        "  counterCorazon=0 \n",
        "  counterDiamante=0\n",
        "  #Listo para Escalera de colores\n",
        "  for i in range(5): \n",
        "    if ListaPintas[i] ==\"P\":\n",
        "      counterPica +=1 \n",
        "      if counterPica==5:\n",
        "        print(\"Escalera de Colores\")\n",
        "    if ListaPintas[i]== \"T\":\n",
        "      counterTrebol +=1 \n",
        "      if counterTrebol==5:\n",
        "        print(\"Escalera de Colores\")\n",
        "    if ListaPintas[i]==\"C\":\n",
        "      counterCorazon+=1 \n",
        "      if counterCorazon==5:\n",
        "        print(\"Escalera de Colores\")\n",
        "    if ListaPintas[i]==\"D\":\n",
        "      counterPica +=1 \n",
        "      if counterDiamante==5:\n",
        "        print(\"Escalera de Colores\")\n",
        "\n",
        "      \n",
        "\n",
        "ListaNumeros= []\n",
        "ListaPintas = []\n",
        "N= int(input()) # # de manos\n",
        "for i in range(5): #5 cartas en una mano\n",
        "  NumeroCarta = float(input())\n",
        "  ListaNumeros.append(NumeroCarta)\n",
        "  PintaCarta = input() #letra P, D, T, C \n",
        "  ListaPintas.append(PintaCarta)\n",
        "Mano(ListaNumeros, ListaPintas)\n"
      ],
      "metadata": {
        "colab": {
          "base_uri": "https://localhost:8080/"
        },
        "id": "nY5EWiYJc7M9",
        "outputId": "47cb490d-541e-40cf-89a9-f417597bab26"
      },
      "execution_count": null,
      "outputs": [
        {
          "output_type": "stream",
          "name": "stdout",
          "text": [
            "1\n",
            "1\n",
            "P\n",
            "2\n",
            "P\n",
            "3\n",
            "P\n",
            "4\n",
            "P\n",
            "5\n",
            "P\n",
            "Escalera de Colores\n"
          ]
        }
      ]
    },
    {
      "cell_type": "code",
      "source": [
        "#ej 8 cartas \n",
        "M=int(input())\n",
        "for i in range(M):\n",
        "  MazoNum=[]\n",
        "  MazoPalo=[]\n",
        "  Registro=[]\n",
        "  for j in range(5):\n",
        "    Num=int(input())\n",
        "    MazoNum.append(Num)\n",
        "    Palo=input()\n",
        "    MazoPalo.append(Palo)\n",
        "  MazoPalo.sort()\n",
        "  MazoNum.sort()\n",
        "  c=0 \n",
        "  A=\"\"   \n",
        "  for i in range(len(MazoNum)-1):\n",
        "    if (MazoNum[i]+1)==MazoNum[i+1]:\n",
        "      c+=1\n",
        "  if c==4:    \n",
        "    A=\"A\"\n",
        "    Registro.append(A)\n",
        "  e=0 \n",
        "  C=\"\"\n",
        "  if MazoPalo.count(MazoPalo[0])==5:\n",
        "    for i in range(len(MazoNum)-1):\n",
        "      if (MazoNum[i]+1)==MazoNum[i+1]:\n",
        "        e+=1\n",
        "    if e<4:\n",
        "      C=\"C\"\n",
        "      Registro.append(C)    \n",
        "  D=\"\"\n",
        "  if MazoPalo.count(MazoPalo[0])==5 and (10 in MazoNum) and (11 in MazoNum) and (12 in MazoNum) and (13 in MazoNum) and (14 in MazoNum):  \n",
        "    D=\"D\"\n",
        "    Registro.append(D)\n",
        "  d=0\n",
        "  B=\"\"  \n",
        "  if MazoPalo.count(MazoPalo[0])==5:\n",
        "    for i in range(len(MazoNum)-1):\n",
        "      if (MazoNum[i]+1)==MazoNum[i+1]:\n",
        "        d+=1\n",
        "    if d==4:\n",
        "      B=\"B\"\n",
        "      Registro.append(B)\n",
        "  if \"A\" in Registro:\n",
        "    if (\"B\" and \"D\") in Registro:\n",
        "      print(\"Escalera real\")\n",
        "    elif (\"D\" not in Registro) and (\"B\" in Registro):\n",
        "      print(\"Escalera de color\")  \n",
        "    elif (\"B\" and \"D\") not in Registro:\n",
        "      print(\"Escalera normal\")\n",
        "  elif \"C\" in Registro:\n",
        "    print(\"Color\")\n",
        "  elif (\"A\" and \"C\") not in Registro:\n",
        "    print(\"Otra mano\")\n"
      ],
      "metadata": {
        "id": "aw4ZcxAxmOLx"
      },
      "execution_count": null,
      "outputs": []
    },
    {
      "cell_type": "markdown",
      "source": [
        "# Modulo 9 strings y archivos\n"
      ],
      "metadata": {
        "id": "588x2Cp3FdXJ"
      }
    },
    {
      "cell_type": "code",
      "source": [
        "#ej 3 Procedencia de personaje asterix\n",
        "N= int(input())\n",
        "i=0\n",
        "\n",
        "while i < N:\n",
        "  Name = input()\n",
        "  if (Name[-2]==\"i\" and Name[-1]==\"x\"): \n",
        "    print(\"Galo\")\n",
        "  elif (Name[-2]==\"u\" and Name[-1]==\"s\"):\n",
        "    print(\"Romano\")\n",
        "  elif (Name[-2]==\"i\" and Name[-1]==\"c\"):\n",
        "    print(\"Godo\") \n",
        "  elif (Name[-2]==\"a\" and Name[-1]==\"s\"):\n",
        "    print(\"Griego\") \n",
        "  elif (Name[-2]==\"a\" and Name[-1]==\"f\"):\n",
        "    print(\"Normando\")\n",
        "  elif (Name[-2]==\"i\" and Name[-1]==\"s\") or (Name[-2]==\"a\" and Name[-1]==\"x\"):\n",
        "    print(\"Breton\")\n",
        "  elif (Name[-2]==\"e\" and Name[-1]==\"z\"):\n",
        "    print(\"Hispano\") \n",
        "  elif (Name[-1]==\"a\"):\n",
        "    print(\"Indio\") \n",
        "  else: \n",
        "    print(\"Desconocido\")\n",
        "  i = i +1"
      ],
      "metadata": {
        "colab": {
          "base_uri": "https://localhost:8080/"
        },
        "id": "FF73GbDgkivQ",
        "outputId": "e95b8241-fc93-49a0-a2d1-ace7a58df2bb"
      },
      "execution_count": null,
      "outputs": [
        {
          "output_type": "stream",
          "name": "stdout",
          "text": [
            "4\n",
            "Obelix\n",
            "Galeo\n",
            "Julianicus\n",
            "Romano\n",
            "pedro\n",
            "Desconocido\n",
            "Nicolax\n",
            "Breton\n"
          ]
        }
      ]
    },
    {
      "cell_type": "code",
      "source": [
        "#ej 4 mi cacharrito uwu \n",
        "\n",
        "N = int(input())\n",
        "ListaPlacas=[]\n",
        "ListaVejez =[]\n",
        "for i in range(N): \n",
        "  Placas= input()\n",
        "  ListaPlacas = Placas.split()\n",
        "  for i in range(len(ListaPlacas)):\n",
        "    if ((ListaPlacas[0]) <= (ListaPlacas[i])):\n",
        "      ListaVejez.append(1)\n",
        "    elif ((ListaPlacas[0]) >= (ListaPlacas[i])):\n",
        "      ListaVejez.append(0)\n",
        "  #print(ListaVejez)\n",
        "  #ContadorVerdad = ListaVejez.count(1) #1 como que es verdad que el cacharrito es el mas viejo \n",
        "  ContadorMentira = ListaVejez.count(0) #0 como que no es verdad\n",
        "  #print(f\"Contador de mentiras: {ContadorMentira}\")\n",
        "  #Si en algun punto dice que no es verdad, es porque hay uno mas viejo que el cacharrito\n",
        "  if (ContadorMentira == 0):\n",
        "    print(\"Mi cacharrito es el mas viejo de todos los autos ;D\")\n",
        "  else:\n",
        "    print(\"Al menos otro auto es mas viejo que mi cacharrito :(\")"
      ],
      "metadata": {
        "colab": {
          "base_uri": "https://localhost:8080/"
        },
        "id": "rL4AndmGaHXV",
        "outputId": "a80e7a65-8d64-4ea2-9b55-e6e893ecf7b1"
      },
      "execution_count": null,
      "outputs": [
        {
          "output_type": "stream",
          "name": "stdout",
          "text": [
            "3\n",
            "SIX666 TWO222 TEN010\n",
            "Mi cacharrito es el mas viejo de todos los autos ;D\n",
            "ONE111 XYZ987 ABC123\n",
            "Al menos otro auto es mas viejo que mi cacharrito :(\n",
            "TEN010 TWO222 XYZ987\n",
            "Al menos otro auto es mas viejo que mi cacharrito :(\n"
          ]
        }
      ]
    },
    {
      "cell_type": "code",
      "source": [
        "# ej 5 palabras panvocalicas \n",
        "\n",
        "N = int(input())\n",
        "for i in range(N): \n",
        "  Wort= input()\n",
        "  GetrenntWort= ([*Wort])\n",
        "  #print(GetrenntWort)\n",
        "  if ((\"a\" in GetrenntWort) and (\"e\" in GetrenntWort) and \"i\" in GetrenntWort and \"o\" in GetrenntWort and \"u\" in GetrenntWort):\n",
        "    print(\"Panvocalica\")\n",
        "  else:\n",
        "    print(\"No es panvocalica\")"
      ],
      "metadata": {
        "colab": {
          "base_uri": "https://localhost:8080/"
        },
        "id": "Loc8xTXoyUbh",
        "outputId": "2fb8e82c-f4a2-4cd9-c1ea-8e58252147d6"
      },
      "execution_count": null,
      "outputs": [
        {
          "output_type": "stream",
          "name": "stdout",
          "text": [
            "5\n",
            "adulterio\n",
            "Panvocalica\n",
            "bisabuelo\n",
            "Panvocalica\n",
            "cabeciduro\n",
            "Panvocalica\n",
            "deglutoria\n",
            "Panvocalica\n",
            "educativo\n",
            "Panvocalica\n"
          ]
        }
      ]
    },
    {
      "cell_type": "code",
      "source": [
        "#ej 6 cajon de los cables \n",
        "\n",
        "N = int(input())\n",
        "FCounter = 0\n",
        "MCounter = 0\n",
        "for i in range(N): \n",
        "  Kabel= input()\n",
        "  GetrenntKabelListe= Kabel.split()\n",
        "  FCounter = 0\n",
        "  MCounter = 0\n",
        "  for element in GetrenntKabelListe: \n",
        "    JedenKabel= ([*element])\n",
        "    FCounter += JedenKabel.count(\"F\")\n",
        "    MCounter += JedenKabel.count(\"M\")\n",
        "  #print(FCounter, MCounter)\n",
        "  if FCounter == MCounter:\n",
        "    print(\"Es posible hacer un unico circulo\")\n",
        "  else:\n",
        "    print(\"No es posible\")"
      ],
      "metadata": {
        "colab": {
          "base_uri": "https://localhost:8080/"
        },
        "id": "0C6MVDIn351r",
        "outputId": "2936665b-d739-488e-9f76-8e838259349a"
      },
      "execution_count": null,
      "outputs": [
        {
          "output_type": "stream",
          "name": "stdout",
          "text": [
            "6\n",
            "FM FM\n",
            "2 2\n",
            "Es posible hacer un unico circulo\n",
            "MM MF\n",
            "1 3\n",
            "No es posible\n",
            "MM FF \n",
            "2 2\n",
            "Es posible hacer un unico circulo\n",
            "FM\n",
            "1 1\n",
            "Es posible hacer un unico circulo\n",
            "MF MM FF\n",
            "3 3\n",
            "Es posible hacer un unico circulo\n",
            "FF MM FF\n",
            "4 2\n",
            "No es posible\n"
          ]
        }
      ]
    },
    {
      "cell_type": "code",
      "source": [
        "#EJ 7 serpientes y camellos\n",
        "N = int(input())\n",
        "for i in range(N): \n",
        "  Wort= input()\n",
        "  Wort= Wort.capitalize()\n",
        "  #print(Wort)\n",
        "  temp = Wort.split('_')\n",
        "  # joining result\n",
        "  res = temp[0] + ''.join(ele.title() for ele in temp[1:])    \n",
        "  # printing result\n",
        "  print( str(res))\n"
      ],
      "metadata": {
        "colab": {
          "base_uri": "https://localhost:8080/"
        },
        "id": "gMFgyNCzDX61",
        "outputId": "537ccd44-55f3-4800-81e2-6552acce56dc"
      },
      "execution_count": null,
      "outputs": [
        {
          "output_type": "stream",
          "name": "stdout",
          "text": [
            "1\n",
            "moni_estas_linda\n",
            "MoniEstasLinda\n"
          ]
        }
      ]
    },
    {
      "cell_type": "code",
      "source": [
        "#ej8 mensaje encriptado \n",
        "with open(\"mensaje.txt\", \"r\") as f:\n",
        "    Gedicht = f.read().split(\"\\n\")\n",
        "\n",
        "for i in Gedicht:\n",
        "    print(i[::-1])"
      ],
      "metadata": {
        "id": "kR5ji1UdMiiR"
      },
      "execution_count": null,
      "outputs": []
    },
    {
      "cell_type": "code",
      "source": [
        "#ej 9 cadena  \n",
        "with open(\"cadena.txt\", \"r\") as f:\n",
        "    Schnur = f.read().split(\"\\n\")\n",
        "    #lee y separa por caada linea nueva\n",
        "\n",
        "for i in Schnur:\n",
        "    palabras = i.strip().split(\" \") #strip removes unnecessary ()spaces or (characters)\n",
        "    cadena = True\n",
        "    for n in range(len(palabras)-1):\n",
        "        if set(palabras[n][-2:]) != set(palabras[n+1][:2]) and set(palabras[n][-3:]) != set(palabras[n+1][:3]):\n",
        "            cadena = False\n",
        "            break\n",
        "    print(\"cadena completa\" if cadena else \"cadena rota\")\n"
      ],
      "metadata": {
        "id": "5s9Nc9GYQUHe"
      },
      "execution_count": null,
      "outputs": []
    },
    {
      "cell_type": "code",
      "source": [
        "#ej 10 opositivos y causativos \n",
        "\n",
        "Opositivos = ['sin embargo', 'no obstante', 'ahora bien', 'aun asi']\n",
        "Causativos = ['por tanto', 'dado que', 'por consiguiente', 'por ende', 'asi pues']\n",
        "\n",
        "with open(\"conversaciones.txt\", \"r\") as f:\n",
        "    text = f.read().split(\"\\n\")\n",
        "\n",
        "for n in text:\n",
        "    n = n.lower().replace(\",\", \"\").replace(\".\", \"\").split(\" \")\n",
        "    Opo = 0\n",
        "    Cau = 0\n",
        "    for j in range(len(n)-1):\n",
        "        if n[j]+\" \"+n[j+1] in Opositivos:\n",
        "            Opo += 1\n",
        "        if n[j]+\" \"+n[j+1] in Causativos:\n",
        "            Cau += 1\n",
        "\n",
        "    print(f\"Opositivos {Opo} Causativos {Cau}\")"
      ],
      "metadata": {
        "colab": {
          "base_uri": "https://localhost:8080/"
        },
        "id": "j05fOQ8rRHPF",
        "outputId": "eb4ca0a2-42c1-42ad-ba9d-9168194a474a"
      },
      "execution_count": null,
      "outputs": [
        {
          "output_type": "stream",
          "name": "stdout",
          "text": [
            "10\n",
            "20\n"
          ]
        }
      ]
    },
    {
      "cell_type": "code",
      "source": [
        "# ej 11 trifelios \n",
        "\n",
        "with open(\"trifelios.txt\", \"r\") as f:\n",
        "    TEXTO = f.read().split(\"\\n\")\n",
        "\n",
        "for case in TEXTO: #Case es el nuevo elif goñda, look it up \n",
        "    Palabras = case.split(\"-\")\n",
        "    Trifelio = False\n",
        "    for i in range(1, len(Palabras[0])):\n",
        "        if Palabras[0][i:]+Palabras[0][:i] == Palabras[1]:\n",
        "            Trifelio = True\n",
        "            break\n",
        "    if Trifelio == True:\n",
        "        print(\"Es trifelio\")\n",
        "    elif Trifelio == False:\n",
        "        print(\"No es trifelio\")\n"
      ],
      "metadata": {
        "id": "mVuh_8rNTQU7"
      },
      "execution_count": null,
      "outputs": []
    },
    {
      "cell_type": "markdown",
      "source": [
        "# Modulo 10: tablas y diccionarios"
      ],
      "metadata": {
        "id": "VUxM9dkKlDXe"
      }
    },
    {
      "cell_type": "code",
      "source": [
        "# ej 1 maquillando resultados electorales (colombia moment)\n",
        "Tabla = []\n",
        "Lista = []\n",
        "\n",
        "N= int(input())\n",
        "for i in range (N): \n",
        "  #crear lista de listas donde las posiciones sean: sexo, edad, estado, puntuacion \n",
        "  Texto = input()\n",
        "  Texto = Texto.upper()\n",
        "  if \"POSITIVA\" in Texto:\n",
        "   Lista= Texto.split()\n",
        "   Lista.pop(0)\n",
        "   Tabla.append(Lista)\n",
        "   Tabla.sort(key=lambda x:(x[-1], x[0]))\n",
        "   \n",
        "    \n",
        "print(f\"La tabla va {Tabla}\")\n"
      ],
      "metadata": {
        "id": "gqmdSMOdlUPF",
        "colab": {
          "base_uri": "https://localhost:8080/"
        },
        "outputId": "2359f2db-2541-45aa-de44-b930387158eb"
      },
      "execution_count": null,
      "outputs": [
        {
          "output_type": "stream",
          "name": "stdout",
          "text": [
            "2\n",
            "m 22 positiva 10\n",
            "La tabla va [['22', 'POSITIVA', '10']]\n",
            "f 35 positiva 10\n",
            "La tabla va [['35', 'POSITIVA', '10'], ['22', 'POSITIVA', '10']]\n"
          ]
        }
      ]
    },
    {
      "cell_type": "code",
      "source": [
        "# ej 1 maquillando resultados electorales (colombia moment)\n",
        "#EJERCICIO 1\n",
        "tabla =[]\n",
        " \n",
        "N = int(input())\n",
        "for i in range(N):\n",
        "  Linea = input()\n",
        "  Linea= Linea.upper()\n",
        "  ListaDatos = Linea.split()\n",
        "  edad = int(ListaDatos[1])\n",
        "  percepcion = ListaDatos[2]\n",
        "  puntuacion = int(ListaDatos[3])\n",
        "  ciudadano =[puntuacion, percepcion, edad] #lista de cada uno\n",
        "  if percepcion == \"POSITIVA\":\n",
        "    tabla.append(ciudadano) #tabla de las listas\n",
        " \n",
        "tabla.sort(reverse=True)\n",
        "for i in tabla:\n",
        "  print(i[2],i[1],i[0])\n"
      ],
      "metadata": {
        "id": "xU58Np78pJ0M",
        "colab": {
          "base_uri": "https://localhost:8080/"
        },
        "outputId": "40a66945-de1c-485e-8660-e53562a06b9a"
      },
      "execution_count": null,
      "outputs": [
        {
          "output_type": "stream",
          "name": "stdout",
          "text": [
            "2\n",
            "m 35 positiva 10\n",
            "['m', '35', 'positiva', '10']\n",
            "f 22 negativa 7\n",
            "['f', '22', 'negativa', '7']\n",
            "('22', 'negativa', '7')\n"
          ]
        }
      ]
    },
    {
      "cell_type": "markdown",
      "source": [
        "En un curso de programación, no diremos en\n",
        "cuál, el profesor hace 12 talleres, con 9, 11, 12,\n",
        "8, 12, 9, 11, 8, 11, 10, 9, y 10 ejercicios\n",
        "respectivamente. La calificación del curso se\n",
        "calcula de la siguiente manera. Cada taller tiene\n",
        "una calificación individual que es igual a la\n",
        "cantidad de ejercicios resueltos correctamente\n",
        "sobre la cantidad de ejercicios del taller. Eso\n",
        "multiplica por 5 y se redondea a una cifra\n",
        "decimal. Luego se toman esas 12\n",
        "calificaciones, se promedian y se redondea de\n",
        "nuevo.\n",
        "\n",
        "\n",
        "4\n",
        "888888, 8, 8, 8, 8, 8, 8, 8, 8, 8, 8, 8, 8\n",
        "555555, 5, 5, 5, 5, 5, 5, 5, 5, 5, 5, 5, 5\n",
        "777777, 7, 7, 7, 7, 7, 7, 7, 7, 7, 7, 7, 7\n",
        "111111, 9, 11, 12, 8, 12, 9, 11, 8, 11, 10, 9, 10\n",
        "\n",
        "\n"
      ],
      "metadata": {
        "id": "Xy-N22EKDpDB"
      }
    },
    {
      "cell_type": "code",
      "source": [
        "#ej 2 calificacion del curso \n",
        "ListaNotasEstudiantes=[]\n",
        "CantidadDeEjercicios= [9, 11, 12, 8 ,12, 9, 11, 8, 11, 10, 9, 10]\n",
        "N = int(input())\n",
        "for i in range(N):\n",
        "  Linea = [int(i) for i in input().split(\", \")]\n",
        "  #vuelve cada elemento int, si es tring se ordena diferente\n",
        "  Nota=0 #reinicia cada nota \n",
        "  for i in range(1, len(Linea)):\n",
        "    Nota += round((Linea[i]/CantidadDeEjercicios[i-1])*5, 1)\n",
        "  Nota = round(Nota/len(CantidadDeEjercicios), 1)\n",
        "  ListaNotasEstudiantes.append([Linea[0], Nota])\n",
        "  #append documento y nota final, esta lista solo tiene esos dos elementos\n",
        "\n",
        "#print(ListaNotasEstudiantes)\n",
        "\n",
        "ListaNotasEstudiantes.sort()\n",
        "for i in ListaNotasEstudiantes: \n",
        "  print(i[0],i[1])"
      ],
      "metadata": {
        "colab": {
          "base_uri": "https://localhost:8080/"
        },
        "id": "5t2TyElr-D0N",
        "outputId": "7e37a505-4349-45c4-f01b-963d6ed9b472"
      },
      "execution_count": null,
      "outputs": [
        {
          "output_type": "stream",
          "name": "stdout",
          "text": [
            "1\n",
            "888888, 8, 8, 8, 8, 8, 8, 8, 8, 8, 8, 8, 8\n",
            "888888 4.0\n"
          ]
        }
      ]
    },
    {
      "cell_type": "code",
      "source": [
        "#ej 3, top insalubre \n",
        "Tabla =[]\n",
        " \n",
        "N = int(input())\n",
        "for i in range(N):\n",
        "  Linea = input()\n",
        " # Linea= Linea.upper()\n",
        "  ListaDatos = Linea.split(\", \")\n",
        "  Nombre = ListaDatos[0]\n",
        "  Peso = float(ListaDatos[1])\n",
        "  Estatura = float(ListaDatos[2])\n",
        "  Azucar = float(ListaDatos[3])\n",
        "  Trigliceridos= float(ListaDatos[4])\n",
        "  IMC = round(float(Peso/(Estatura**2)),1)\n",
        "  Empleado =[Nombre, IMC] #lista de cada uno\n",
        "  if (IMC >25 and Azucar > 100 and Trigliceridos > 150):\n",
        "    Tabla.append(Empleado)\n",
        "Tabla.sort(key=lambda x:(x[1],x[0]), reverse=True )\n",
        "#print(Tabla)\n",
        "\n",
        "for i in range(len(Tabla)):\n",
        "   print((i+1), Tabla[i][0], Tabla[i][1]) #Tabla [empleado[0]][empleado[1]] , [0]=nombre, [1]=IMC"
      ],
      "metadata": {
        "id": "W7H2Ov_tblst"
      },
      "execution_count": null,
      "outputs": []
    },
    {
      "cell_type": "code",
      "source": [
        "#ej4: Traductor Ewokes, castellano \n",
        "\n",
        "DiccionarioEwokes={}\n",
        "\n",
        "N=int(input())\n",
        "for i in range(N):\n",
        "    EwokesEspañol = input().split()\n",
        "    DiccionarioEwokes[EwokesEspañol[0]] = EwokesEspañol[1] \n",
        "\n",
        "#print(DiccionarioEwokes)\n",
        "\n",
        "for i in range(int(input())):\n",
        "  PalabraEspañol=input()\n",
        "  if DiccionarioEwokes.get(PalabraEspañol):\n",
        "    print(DiccionarioEwokes[PalabraEspañol])\n",
        "  else:\n",
        "    print(\"palabra no encontrada\")"
      ],
      "metadata": {
        "id": "wcGse1vqjleP"
      },
      "execution_count": null,
      "outputs": []
    },
    {
      "cell_type": "code",
      "source": [
        "#ej 5: es bandera britanica? \n",
        "\n",
        "N = int(input())\n",
        "for CasosBanderas in range(N):\n",
        "    l = int(input())\n",
        "    bandera = []\n",
        "    for i in range(l):\n",
        "        bandera.append(input())\n",
        "\n",
        "    vx = True\n",
        "    for i in range(l):\n",
        "        for j in range(l):\n",
        "            if j==i or j==l-(i+1):\n",
        "                if bandera[i][j] != \"#\":\n",
        "                    vx = False\n",
        "                    break\n",
        "            else:\n",
        "                if bandera[i][j] == \"#\":\n",
        "                    vx = False\n",
        "                    break\n",
        "        if not vx:\n",
        "            break\n",
        "\n",
        "    vp = True\n",
        "    for i in bandera[:l//2]+bandera[(l//2)+1:]:\n",
        "        if i[l//2] != \"+\":\n",
        "            vp = False\n",
        "            break\n",
        "\n",
        "    for i in bandera[l//2][:l//2]+bandera[l//2][l//2+1:]:\n",
        "        if i != \"+\":\n",
        "            vp = False\n",
        "            break\n",
        "\n",
        "    if vx and vp:\n",
        "        print(\"Bandera britanica\")\n",
        "    else:\n",
        "        print(\"Ni idea\")\n"
      ],
      "metadata": {
        "id": "U8vb41HGskTm"
      },
      "execution_count": null,
      "outputs": []
    },
    {
      "cell_type": "code",
      "source": [
        "#ej6 diccionario de normal a morse\n",
        "MorseDictionary = {'A': '.-', 'G': '--.', 'M': '--', 'S': '...', 'Y': '-.--', 'B': '-...', 'H': '....', 'N': '-.', 'T': '-', 'Z': '--..', 'C': '-.-.', 'I': '..', 'O': '---', 'U': '..-', '.': '.-.-.-', 'D': '-..', 'J': '.---', 'P': '.--.', 'V': '...-', ',': '-.-.--', 'E': '.', 'K': '-.-', 'Q': '--.-', 'W': '.--', 'F': '..-.', 'L': '.-..', 'R': '.-.', 'X': '-..-', ' ': '/'}\n",
        "\n",
        "#PalabraTraducidaLista= []\n",
        "for i in range(int(input())):\n",
        "    Linea = input().upper().strip().replace(\"\\n\", \"\")\n",
        "    GetrenntSatz= ([*Linea])\n",
        "    # print(Linea)\n",
        "    #print(GetrenntSatz)\n",
        "    PalabraTraducidaLista= []\n",
        "    for i in range(len(GetrenntSatz)):\n",
        "        if GetrenntSatz[i] == \" \":\n",
        "            GetrenntSatz[i] == \"/\"\n",
        "\n",
        "        if MorseDictionary.get(GetrenntSatz[i]):\n",
        "            PalabraTraducidaLista.append(MorseDictionary[GetrenntSatz[i]])\n",
        "    #print(PalabraTraducidaLista)\n",
        "    PalabraTraducida= \" \".join(PalabraTraducidaLista)+\" \\n\"\n",
        "    print(PalabraTraducida)\n",
        "            #print(GetrenntSatz[i])"
      ],
      "metadata": {
        "id": "lcKRkEV4_Y1Z"
      },
      "execution_count": null,
      "outputs": []
    },
    {
      "cell_type": "code",
      "source": [
        "#ej 8 zeller (calcular dia de la semana con el dia, mes y año numericos)\n",
        "Dias={0 :\"sabado\", 1: \"domingo\", 2: \"lunes\", 3 :\"martes\", 4: \"miercoles\", 5:\"jueves\", 6:\"viernes\"}\n",
        "Meses = {\"enero\":13, \"febrero\":14, \"marzo\":3, \"abril\":4, \"mayo\":5, \"junio\":6, \"julio\":7, \"agosto\":8, \"septiembre\":9, \"octubre\":10, \"noviembre\":11, \"diciembre\":12}\n",
        "\n",
        "for i in range (int(input())):\n",
        "    Linea = input().split(\"-\")\n",
        "    Linea[0]= int(Linea[0])\n",
        "    Linea[1]= Meses[Linea[1]]\n",
        "    Linea[2] =  int(Linea[2])-1 if Linea[1] in [13, 14] else int(Linea[2])\n",
        "    d, m, a = Linea\n",
        "    DiaDeLaSemana= int((d+((13*(m+1))//5)+a+(a//4)-(a//100)+(a//400))%7)\n",
        "    print(Dias[DiaDeLaSemana])"
      ],
      "metadata": {
        "id": "eRl2CIEV_eUI"
      },
      "execution_count": null,
      "outputs": []
    },
    {
      "cell_type": "code",
      "source": [
        "#ej 9 numero de palabras diferentes en canciones\n",
        "unique_words_reggaeton = []\n",
        "\n",
        "for i in range(int(input())):\n",
        "    PalabrasReggaeton=0\n",
        "    wordsReggaeton = input().split() #el del reggaeton\n",
        "    #print(words) \n",
        "    for word in wordsReggaeton: \n",
        "        if word not in unique_words_reggaeton:\n",
        "            unique_words_reggaeton.append(word)\n",
        "    PalabrasReggaeton = len(unique_words_reggaeton)\n",
        "\n",
        "\n",
        "unique_words_rock=[]\n",
        "for i in range(int(input())):\n",
        "    PalabrasRock=0\n",
        "    wordsRock = input().split() #el del rock\n",
        "    #print(words) \n",
        "    for word in wordsRock: \n",
        "        if word not in unique_words_rock:\n",
        "            unique_words_rock.append(word)\n",
        "    PalabrasRock = len(unique_words_rock)\n",
        "\n",
        "print(f\"Reggaeton: {PalabrasReggaeton} Rock: {PalabrasRock}\")\n"
      ],
      "metadata": {
        "id": "RFrCUFQdNaNI"
      },
      "execution_count": null,
      "outputs": []
    },
    {
      "cell_type": "markdown",
      "source": [
        "# Modulo 11: otras librerías"
      ],
      "metadata": {
        "id": "m0NQa9y50BI2"
      }
    },
    {
      "cell_type": "code",
      "source": [
        "#ej1 duración de la cuarentena \n",
        "\n",
        "from datetime import datetime \n",
        "\n",
        "for i in range (int(input())):\n",
        "  DatumString= input()\n",
        "  DatumListe= DatumString.split()\n",
        "  PandemieDatum = datetime.strptime( DatumListe[1] , \"%Y-%m-%d\")\n",
        "  FreiheitDatum = datetime.strptime( DatumListe[2] , \"%Y-%m-%d\")\n",
        "  #print(PandemieDatum, FreiheitDatum)\n",
        "  Unterschied = FreiheitDatum - PandemieDatum\n",
        "  print(f\"{Unterschied.days} dias = {Unterschied.days*24} horas = {Unterschied.days*1440} minutos = {Unterschied.days*86400} segundos\")\n",
        "  #DatumListe.pop(0)"
      ],
      "metadata": {
        "colab": {
          "base_uri": "https://localhost:8080/"
        },
        "id": "BFUmdc7r1K-f",
        "outputId": "44ff9d6f-472f-4736-8967-e232f7d8b77b"
      },
      "execution_count": null,
      "outputs": [
        {
          "output_type": "stream",
          "name": "stdout",
          "text": [
            "1\n",
            "Albania 2020-03-13 2020-06-01\n",
            "80 días =  1920 horas = 115200 minutos = 6912000 segundos\n"
          ]
        }
      ]
    },
    {
      "cell_type": "code",
      "source": [
        "#ej2, hour de los programadores\n",
        "from datetime import datetime \n",
        "\n",
        "StundenPlan=[]\n",
        "truevampires=0 \n",
        "earlybirds=0 \n",
        "sunnywarmers=0\n",
        "lunchworkers=0\n",
        "sunsetlovers=0\n",
        "primetimers=0\n",
        "\n",
        "for i in range(int(input())):\n",
        "  StundenPlan.append(input())\n",
        "\n",
        "#print(StundenPlan)\n",
        "for j in StundenPlan:\n",
        "  UhrFormat = j.split(\" \")\n",
        "  horario = datetime.strptime(UhrFormat[1], \"%H:%M:%S\" )\n",
        "  hour = horario.hour\n",
        "  #print(f\"valor de hora: {hour}\")\n",
        " \n",
        "  # print(hour)\n",
        "  # print(UhrFormat)\n",
        "  if 0 <= hour <= 3:\n",
        "    truevampires += 1\n",
        "  elif 4 <= hour <= 7:\n",
        "    earlybirds +=1 \n",
        "  elif 8 <= hour <= 11:\n",
        "    sunnywarmers += 1\n",
        "  elif 12 <= hour <= 15:\n",
        "    lunchworkers +=1\n",
        "  elif 16 <= hour <= 19:\n",
        "    sunsetlovers += 1\n",
        "  elif 20 <= hour <= 23:\n",
        "    primetimers += 1\n",
        "  \n",
        "print(f\"true vampires {truevampires}\\nearly birds {earlybirds}\\nsunny warmers {sunnywarmers}\\nlunch workers {lunchworkers}\\nsunset lovers {sunsetlovers}\\nprime timers {primetimers}\")\n",
        "\n",
        "  "
      ],
      "metadata": {
        "colab": {
          "base_uri": "https://localhost:8080/"
        },
        "id": "5Db7lgOq-By4",
        "outputId": "7a26b509-13da-4ad0-95f2-6691071f33cc"
      },
      "execution_count": null,
      "outputs": [
        {
          "output_type": "stream",
          "name": "stdout",
          "text": [
            "1\n",
            "2000-01-01 14:30:00\n",
            "1900-01-01 14:30:00\n"
          ]
        }
      ]
    },
    {
      "cell_type": "code",
      "source": [
        "#ej 3 lanzamiento de dados\n",
        "import random\n",
        "\n",
        "Plataforma=[]\n",
        "for i in range(int(input())):\n",
        "  Plataforma.append(input())\n",
        "\n",
        "for j in Plataforma:\n",
        " # Mensch=random.randint(2,13)\n",
        "  Mensch = 7 \n",
        "  list=j.split(\" \")\n",
        "  if Mensch> int(list[1]):\n",
        "    print(\"Gana el humano\")\n",
        "  elif Mensch<int(list[1]):\n",
        "    print(\"Gana la plataforma\")\n",
        "  elif Mensch==int(list[1]):\n",
        "    print(\"Empate\")"
      ],
      "metadata": {
        "id": "511FOCBzUnI5"
      },
      "execution_count": null,
      "outputs": []
    },
    {
      "cell_type": "code",
      "source": [
        "#ej4: reloj de loading day... \n",
        "from datetime import datetime\n",
        "Liste=[]\n",
        "Prozent=0\n",
        "TagSekunden=0\n",
        "\n",
        "for i in range(int(input())):\n",
        "  Liste.append(input())\n",
        "\n",
        "for element in Liste:\n",
        "    StundeListe = element.split(\" \")\n",
        "    StundenPlan = datetime.strptime(StundeListe[0],\"%H:%M:%S\")\n",
        "\n",
        "    Stunde = StundenPlan.hour\n",
        "    Minuten = StundenPlan.minute\n",
        "    Sekunden = StundenPlan.second\n",
        "        \n",
        "    if StundeListe[1] == \"AM\" and Stunde == 12: \n",
        "        Stunde= 0\n",
        "    elif StundeListe[1] == \"PM\" and Stunde != 12:\n",
        "        Stunde = Stunde + 12\n",
        "\n",
        "    TagSekunden = (Stunde*3600) + (Minuten*60) + Sekunden \n",
        "    #print(TagSekunden)\n",
        "    \n",
        "    Prozent=round(((TagSekunden)*100/86400), 3)\n",
        "    print(f\"Loading day ... {Prozent}%\")"
      ],
      "metadata": {
        "colab": {
          "base_uri": "https://localhost:8080/"
        },
        "id": "OT7SYDSyXUm1",
        "outputId": "0053ef23-7e65-4d37-d38d-6d945b7c4e37"
      },
      "execution_count": null,
      "outputs": [
        {
          "output_type": "stream",
          "name": "stdout",
          "text": [
            "3\n",
            "12:00:00 PM\n",
            "09:00:00 PM\n",
            "11:59:59 PM\n",
            "1900-01-01 12:00:00\n",
            "1900-01-01 09:00:00\n",
            "1900-01-01 11:59:59\n",
            "Loading day ... 99.999%\n"
          ]
        }
      ]
    },
    {
      "cell_type": "code",
      "source": [
        "#ej 5 la espera desespera \n",
        "from datetime import datetime\n",
        "ActividadListe=[]\n",
        "ActividadTabla=[]\n",
        "\n",
        "\n",
        "FrisseurMal = 0\n",
        "ZeitUnterschied = 0\n",
        "\n",
        "for i in range(int(input())):\n",
        "    Actividad = input()\n",
        "    ActividadListe= Actividad.split(\", \")\n",
        "    ActividadTabla.append(ActividadListe)\n",
        "\n",
        "    for lista in range(len(ActividadTabla)):\n",
        "        if ActividadListe[1] == \"barberia\" :\n",
        "            FrisseurMal +=1\n",
        "            \n",
        "            Einchecken = datetime.strptime(ActividadListe[2], \"%H:%M:%S\")\n",
        "            Auschecken = datetime.strptime(ActividadListe[3], \"%H:%M:%S\")\n",
        "            dif = (Auschecken - Einchecken)\n",
        "            \n",
        "        Stunden = dif.hour\n",
        "        Minuten = dif.minute\n",
        "        Sekunden = dif.second\n",
        "\n",
        "\n",
        "print(f\"{FrisseurMal} veces \")\n",
        "print(f\"{Stunden} horas, {Minuten} minutos, {Sekunden} segundos\")\n"
      ],
      "metadata": {
        "id": "hNB7ftodjHPD"
      },
      "execution_count": null,
      "outputs": []
    }
  ]
}