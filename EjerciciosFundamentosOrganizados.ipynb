{
  "nbformat": 4,
  "nbformat_minor": 0,
  "metadata": {
    "colab": {
      "provenance": [],
      "authorship_tag": "ABX9TyPEjbvtEITV/gCvZ1n2AdDr",
      "include_colab_link": true
    },
    "kernelspec": {
      "name": "python3",
      "display_name": "Python 3"
    },
    "language_info": {
      "name": "python"
    }
  },
  "cells": [
    {
      "cell_type": "markdown",
      "metadata": {
        "id": "view-in-github",
        "colab_type": "text"
      },
      "source": [
        "<a href=\"https://colab.research.google.com/github/monicasofiarestrepo/MiProgresoPy/blob/main/EjerciciosFundamentosOrganizados.ipynb\" target=\"_parent\"><img src=\"https://colab.research.google.com/assets/colab-badge.svg\" alt=\"Open In Colab\"/></a>"
      ]
    },
    {
      "cell_type": "code",
      "execution_count": null,
      "metadata": {
        "id": "zes0PQ5dtNC2"
      },
      "outputs": [],
      "source": [
        "# Hola bebé"
      ]
    },
    {
      "cell_type": "markdown",
      "source": [
        "# Simulacro parcial 1\n"
      ],
      "metadata": {
        "id": "pbRsd1mEtUQ5"
      }
    },
    {
      "cell_type": "markdown",
      "source": [],
      "metadata": {
        "id": "pKManey1MwpZ"
      }
    },
    {
      "cell_type": "code",
      "source": [
        "from IPython.core.display import DisplayHandle\n",
        "#Cuanto falta pa la quincena\n",
        "\n",
        "Dia=int(input())\n",
        "mes=input()\n",
        "\n",
        "if (mes == \"enero\" or mes == \"marzo\" or mes== \"mayo\" or mes == \"julio\"or mes == \"agosto\"or mes == \"octubre\" or mes== \"diciembre\"):\n",
        "   Faltan = 31-Dia\n",
        "elif (mes == \"abril\" or mes == \"junio\" or mes == \"septiembre\" or mes == \"noviembre\"):\n",
        "  Faltan = 30-Dia\n",
        "elif (mes == \"febrero\"):\n",
        "  Faltan = 28-Dia\n",
        "\n",
        "print(f\"Faltan {Faltan} dias para pagarte\")"
      ],
      "metadata": {
        "id": "iUfYp2FItYpN"
      },
      "execution_count": null,
      "outputs": []
    },
    {
      "cell_type": "code",
      "source": [
        "Edad = int(input())\n",
        "\n",
        "if Edad <= 12:\n",
        "  Etapa = \"nino\"\n",
        "elif 13 <= Edad <= 17:\n",
        "  Etapa= \"adolescente\"\n",
        "elif 18 <= Edad <= 62:\n",
        "  Etapa = \"adulto\"\n",
        "elif Edad > 62:\n",
        "  Etapa = \"adulto mayor\"\n",
        "\n",
        "print(f\"Es un {Etapa}\")"
      ],
      "metadata": {
        "id": "vmLHfR-vwX9O"
      },
      "execution_count": null,
      "outputs": []
    },
    {
      "cell_type": "code",
      "source": [
        "#¿podemos tener mas gatos en la nacho? \n",
        "\n",
        "gatos = int(input())\n",
        "zari = int(input())\n",
        "reptiles = int(input())\n",
        "\n",
        "Total= gatos+zari+reptiles\n",
        "PorcentajeGatos = round(float(gatos*100)/(Total),1)\n",
        "PorcentajeZari = round(float(zari*100)/(Total),1)\n",
        "PorcentajeReptiles = round(float(reptiles*100)/(Total),1)\n",
        "print(f\"gatos {PorcentajeGatos}%\")\n",
        "print(f\"zariguellas {PorcentajeZari}%\")\n",
        "print(f\"reptiles {PorcentajeReptiles}%\")\n",
        "\n",
        "if PorcentajeGatos > 40:\n",
        "  print(\"Debemos dejar de alimentar los gatos\")\n",
        "\n",
        "else:\n",
        "  print(\"Todavia podemos tener mas gatos en la nacho\")\n"
      ],
      "metadata": {
        "id": "dfSuvqxnz0sQ"
      },
      "execution_count": null,
      "outputs": []
    },
    {
      "cell_type": "code",
      "source": [
        "x=54\n",
        "n=str(x)\n",
        "sum=0\n",
        "  \n",
        "for i in range(x):\n",
        "   if len(n)==3:\n",
        "    sum+=3\n",
        "   if len(n)==2:\n",
        "      sum+=2\n",
        "   if len(n)==1:\n",
        "      sum+=1\n",
        "\n",
        "print(sum)"
      ],
      "metadata": {
        "colab": {
          "base_uri": "https://localhost:8080/"
        },
        "id": "JG-grkB9L2C2",
        "outputId": "63bd93df-8d16-42b3-9d72-e60ba7eed5e0"
      },
      "execution_count": null,
      "outputs": [
        {
          "output_type": "stream",
          "name": "stdout",
          "text": [
            "108\n"
          ]
        }
      ]
    },
    {
      "cell_type": "code",
      "source": [
        "nombre=\"moni\"\n",
        "print(nombre,\", has ganado\")\n",
        "print(nombre, end=\", has ganado\")\n",
        "\n",
        "#print(nombre, \"has ganado\", sep=\"\")"
      ],
      "metadata": {
        "colab": {
          "base_uri": "https://localhost:8080/"
        },
        "id": "hLSg2NFpbcBu",
        "outputId": "8174a9c7-1a43-4ff0-b769-d81e938732f3"
      },
      "execution_count": null,
      "outputs": [
        {
          "output_type": "stream",
          "name": "stdout",
          "text": [
            "moni , has ganado\n",
            "moni, has ganado"
          ]
        }
      ]
    },
    {
      "cell_type": "markdown",
      "source": [
        "# Módulo 5 \n"
      ],
      "metadata": {
        "id": "LLRTy-aaMhli"
      }
    },
    {
      "cell_type": "code",
      "source": [
        "#ej 5:tablas de multiplicar \n",
        "\n",
        "n=int(input())\n",
        "i=1\n",
        "for i in range(1,21,1):\n",
        "  r= n*i\n",
        "  print(f\"{n} x {i} = {r}\")\n",
        "  i+=1"
      ],
      "metadata": {
        "colab": {
          "base_uri": "https://localhost:8080/"
        },
        "id": "NT9zMAGMMrdv",
        "outputId": "c4e74081-8c74-41c6-f2d6-7d2acdd400d9"
      },
      "execution_count": null,
      "outputs": [
        {
          "output_type": "stream",
          "name": "stdout",
          "text": [
            "2\n",
            "2 x 1 = 2\n",
            "2 x 2 = 4\n",
            "2 x 3 = 6\n",
            "2 x 4 = 8\n",
            "2 x 5 = 10\n",
            "2 x 6 = 12\n",
            "2 x 7 = 14\n",
            "2 x 8 = 16\n",
            "2 x 9 = 18\n",
            "2 x 10 = 20\n",
            "2 x 11 = 22\n",
            "2 x 12 = 24\n",
            "2 x 13 = 26\n",
            "2 x 14 = 28\n",
            "2 x 15 = 30\n",
            "2 x 16 = 32\n",
            "2 x 17 = 34\n",
            "2 x 18 = 36\n",
            "2 x 19 = 38\n",
            "2 x 20 = 40\n"
          ]
        }
      ]
    },
    {
      "cell_type": "code",
      "source": [
        "#ej 6 división salomónica\n",
        "\n",
        "N=float(input())\n",
        "i=1\n",
        "DS= N/2\n",
        "while (DS>=10):\n",
        "  DS=DS/2\n",
        "  i +=1\n",
        "\n",
        "print(i)\n"
      ],
      "metadata": {
        "colab": {
          "base_uri": "https://localhost:8080/"
        },
        "id": "rMc5j28m0oON",
        "outputId": "c61c447f-8e3f-4334-c9eb-196da121f2e8"
      },
      "execution_count": null,
      "outputs": [
        {
          "output_type": "stream",
          "name": "stdout",
          "text": [
            "1048576.0 \n",
            "17\n"
          ]
        }
      ]
    },
    {
      "cell_type": "code",
      "source": [
        "#ej7 lotes\n",
        "\n",
        "Cantidad= int(input())\n",
        "Long= float(input())\n",
        "Step= float(input())\n",
        "i = 1\n",
        "AreaTotal= float(0)\n",
        "\n",
        "for i in range(Cantidad):\n",
        "  Cuadrado= Long**2\n",
        "  AreaTotal += Cuadrado\n",
        "  Long += Step\n",
        "\n",
        "print(f\"El area total es de {AreaTotal} metros cuadrados\")"
      ],
      "metadata": {
        "colab": {
          "base_uri": "https://localhost:8080/"
        },
        "id": "9BpF-25t6lLt",
        "outputId": "883ed99c-2d7e-4a44-8d8b-2179c0c5f207"
      },
      "execution_count": null,
      "outputs": [
        {
          "output_type": "stream",
          "name": "stdout",
          "text": [
            "3\n",
            "20.2\n",
            "5.4\n",
            "El area total es de 2024.4 metros cuadrados\n"
          ]
        }
      ]
    },
    {
      "cell_type": "code",
      "source": [
        "#ej8 un elkefante se balanceaba \n",
        "\n",
        "Max= float(input())\n",
        "N= int(input())\n",
        "i=0\n",
        "y=0\n",
        "Total=0\n",
        "\n",
        "while i < N:\n",
        "  Peso= float(input())\n",
        "  Total += Peso\n",
        "  i +=1\n",
        "  if(Total <= Max):\n",
        "    y +=1\n",
        "  elif(Total > Max):\n",
        "    y = y \n",
        "  #print(y)\n",
        "  #1print(Total)\n",
        "\n",
        "print (y)"
      ],
      "metadata": {
        "colab": {
          "base_uri": "https://localhost:8080/"
        },
        "id": "iftLOtVT-Gmt",
        "outputId": "cd66efcf-0ef0-4e3e-c0da-243a2fca2497"
      },
      "execution_count": null,
      "outputs": [
        {
          "output_type": "stream",
          "name": "stdout",
          "text": [
            "500\n",
            "3\n",
            "450\n",
            "350\n",
            "250\n",
            "1\n"
          ]
        }
      ]
    },
    {
      "cell_type": "code",
      "source": [
        "#ej 9, primer y ultimo digito\n",
        "\n",
        "n=int(input())\n",
        "\n",
        "ultimodigito=(n % 10)\n",
        "while n >= 10: \n",
        "   n = n // 10;\n",
        "   primerdigito=n\n",
        "      \n",
        "print(f\"{primerdigito}{ultimodigito}\")"
      ],
      "metadata": {
        "colab": {
          "base_uri": "https://localhost:8080/"
        },
        "id": "J2-vXB9sKFFc",
        "outputId": "8dc8c7aa-04dc-4aca-ec6b-4bcc81223b5c"
      },
      "execution_count": null,
      "outputs": [
        {
          "output_type": "stream",
          "name": "stdout",
          "text": [
            "987654321\n",
            "91\n"
          ]
        }
      ]
    },
    {
      "cell_type": "code",
      "source": [
        "#ej 10 el union jack banderita "
      ],
      "metadata": {
        "id": "yLuHEpN1OLQS"
      },
      "execution_count": null,
      "outputs": []
    },
    {
      "cell_type": "code",
      "source": [
        "#ej 11 polifactores\n",
        "A=int(input())\n",
        "P=int(input())\n",
        "Q=int(input())\n",
        "N=A\n",
        "cont=0\n",
        "for i in range (P,Q+1):\n",
        "  if A/i != A//i:\n",
        "    break\n",
        "  A/=i  \n",
        "  cont+=(i)\n",
        "suma=0\n",
        "for j in range (P,Q+1):\n",
        "  suma+=j  \n",
        "if cont==suma:\n",
        "  print(N,\"es polifactor entre\",P,\"y\", Q)\n",
        "else:\n",
        "  print(N,\"no es polifactor entre\",P,\"y\", Q)"
      ],
      "metadata": {
        "id": "g9mNdF0TOOX5",
        "colab": {
          "base_uri": "https://localhost:8080/"
        },
        "outputId": "68d2d4e8-caee-4f74-ae05-a9e166d4a611"
      },
      "execution_count": null,
      "outputs": [
        {
          "output_type": "stream",
          "name": "stdout",
          "text": [
            "3628800\n",
            "1 \n",
            "10\n",
            "3628800 es polifactor entre 1 y 10\n"
          ]
        }
      ]
    },
    {
      "cell_type": "code",
      "source": [
        "#ej12 dane \n",
        "\n",
        "N=int(input())\n",
        "P1=0\n",
        "for i in range(1,N+1):\n",
        "  P=float(input())\n",
        "  P2=int(P*i-P1)\n",
        "  print(P2)\n",
        "  P1+=P2"
      ],
      "metadata": {
        "id": "mwpewktUZWuq"
      },
      "execution_count": null,
      "outputs": []
    },
    {
      "cell_type": "markdown",
      "source": [
        "# Modulo 6\n"
      ],
      "metadata": {
        "id": "zQHJEoDmd7V8"
      }
    },
    {
      "cell_type": "code",
      "source": [
        "#ejercicio 1, Aprendiendo los numeros\n",
        "\n",
        "numeros=[]\n",
        "n = int(input())  #numero de veces que se repite\n",
        "for i in range(n):\n",
        "  numero = int(input())\n",
        "  numeros.append(numero) \n",
        "\n",
        "unos = numeros.count(1)\n",
        "print(f\"1: {unos}\")\n",
        "doses = numeros.count(2)\n",
        "print(f\"2: {doses}\")\n",
        "treses = numeros.count(3)\n",
        "print(f\"3: {treses}\")\n",
        "cuatros = numeros.count(4)\n",
        "print(f\"4: {cuatros}\")\n",
        "cincos = numeros.count(5)\n",
        "print(f\"5: {cincos}\")  #se puede hacer en una sola sinea con \\n pero ya que "
      ],
      "metadata": {
        "colab": {
          "base_uri": "https://localhost:8080/"
        },
        "id": "z5snWnYNd--8",
        "outputId": "60981232-b625-4c20-cb94-46195bf98369"
      },
      "execution_count": null,
      "outputs": [
        {
          "output_type": "stream",
          "name": "stdout",
          "text": [
            "10\n",
            "3\n",
            "82\n",
            "3\n",
            "5\n",
            "17\n",
            "5\n",
            "39\n",
            "2\n",
            "5\n",
            "24\n",
            "1: 0\n",
            "2: 1\n",
            "3: 2\n",
            "4: 0\n",
            "5: 3\n"
          ]
        }
      ]
    },
    {
      "cell_type": "code",
      "source": [
        "#ejercicio 2, club mas ganador \n",
        "\n",
        "n= int(input())\n",
        "Ballenota= []\n",
        "Mandril=[]\n",
        "\n",
        "MarcadorBallenota= 0\n",
        "MarcadorMandril= 0 \n",
        "\n",
        "for i in range (n): \n",
        "  GolesBallenota = int(input())\n",
        "  Ballenota.append(GolesBallenota)\n",
        " # print(Ballenota)\n",
        "  \n",
        "for i in range (n):\n",
        "  GolesMandril= int(input())\n",
        "  Mandril.append(GolesMandril)\n",
        "  #print(Mandril)\n",
        "\n",
        "for i in range (n):\n",
        "  if  Ballenota[i] ==  Mandril[i]:\n",
        "    MarcadorBallenota += 1\n",
        "    MarcadorMandril += 1\n",
        "  elif Ballenota[i] > Mandril[i]:\n",
        "    MarcadorBallenota += 2 \n",
        "  elif Mandril[i] > Ballenota[i]:\n",
        "    MarcadorMandril +=2 \n",
        "  \n",
        "print(f\"Ballenota Futbol Club: {MarcadorBallenota}\")\n",
        "print(f\"Real Mandril: {MarcadorMandril}\")"
      ],
      "metadata": {
        "colab": {
          "base_uri": "https://localhost:8080/"
        },
        "id": "1fI2dAx8kWiv",
        "outputId": "d3a136ae-c8af-4198-928b-6fd9392adea1"
      },
      "execution_count": null,
      "outputs": [
        {
          "output_type": "stream",
          "name": "stdout",
          "text": [
            "5\n",
            "2\n",
            "[2]\n",
            "3\n",
            "[2, 3]\n",
            "0\n",
            "[2, 3, 0]\n",
            "1\n",
            "[2, 3, 0, 1]\n",
            "0\n",
            "[2, 3, 0, 1, 0]\n",
            "1\n",
            "[1]\n",
            "4\n",
            "[1, 4]\n",
            "0\n",
            "[1, 4, 0]\n",
            "0\n",
            "[1, 4, 0, 0]\n",
            "2\n",
            "[1, 4, 0, 0, 2]\n",
            "Ballenota Futbol Club : 5\n",
            "Real Mandril: 5\n"
          ]
        }
      ]
    },
    {
      "cell_type": "code",
      "source": [
        "Laminitas= []\n",
        "while True:\n",
        "    N=int(input())\n",
        "    Laminitas.append(N)\n",
        "    if N == 0:\n",
        "      break\n",
        "print (\"saliste\")\n",
        "print(Laminitas)\n"
      ],
      "metadata": {
        "id": "gC9AVOObm2SV",
        "colab": {
          "base_uri": "https://localhost:8080/"
        },
        "outputId": "98e37a35-3f40-4ddb-c6d4-25a4de50d082"
      },
      "execution_count": null,
      "outputs": [
        {
          "output_type": "stream",
          "name": "stdout",
          "text": [
            "1\n",
            "2\n",
            "3\n",
            "4\n",
            "5\n",
            "6\n",
            "7\n",
            "8\n",
            "9\n",
            "0\n",
            "saliste\n",
            "[1, 2, 3, 4, 5, 6, 7, 8, 9, 0]\n"
          ]
        }
      ]
    },
    {
      "cell_type": "code",
      "source": [],
      "metadata": {
        "id": "KhAlDbmGoYV1"
      },
      "execution_count": null,
      "outputs": []
    }
  ]
}